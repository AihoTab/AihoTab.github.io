{
  "nbformat": 4,
  "nbformat_minor": 0,
  "metadata": {
    "colab": {
      "provenance": [],
      "authorship_tag": "ABX9TyOK9b2aEXjOw9WxcG8SK+9T"
    },
    "kernelspec": {
      "name": "python3",
      "display_name": "Python 3"
    },
    "language_info": {
      "name": "python"
    }
  },
  "cells": [
    {
      "cell_type": "markdown",
      "source": [
        "# Задача 2\n",
        "В результате 10 независимых измерений некоторой величины X, выполненных с одинаковой точностью, получены опытные данные:\n",
        "6.9, 6.1, 6.2, 6.8, 7.5, 6.3, 6.4, 6.9, 6.7, 6.1\n",
        "> Предполагая, что результаты измерений подчинены нормальному закону распределения вероятностей, оценить истинное значение величины X при помощи доверительного интервала, покрывающего это значение с доверительной вероятностью 0,95.\n",
        "\n",
        "\n",
        "![image.png](data:image/png;base64,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)"
      ],
      "metadata": {
        "id": "BiKg9oj10lAo"
      }
    },
    {
      "cell_type": "code",
      "source": [
        "import numpy as np\n",
        "from scipy import stats"
      ],
      "metadata": {
        "id": "7_IM7eAk0vC9"
      },
      "execution_count": 98,
      "outputs": []
    },
    {
      "cell_type": "code",
      "source": [
        "x = ([6.9, 6.1, 6.2, 6.8, 7.5, 6.3, 6.4, 6.9, 6.7, 6.1])"
      ],
      "metadata": {
        "id": "xKyO5YoY07Lj"
      },
      "execution_count": 99,
      "outputs": []
    },
    {
      "cell_type": "code",
      "source": [
        "x_mean = np.mean(x)\n",
        "x_mean"
      ],
      "metadata": {
        "colab": {
          "base_uri": "https://localhost:8080/"
        },
        "id": "aNEHoxwX2cRg",
        "outputId": "258c0854-9ab8-4f6c-8e39-0d8832fdd0f0"
      },
      "execution_count": 100,
      "outputs": [
        {
          "output_type": "execute_result",
          "data": {
            "text/plain": [
              "6.590000000000001"
            ]
          },
          "metadata": {},
          "execution_count": 100
        }
      ]
    },
    {
      "cell_type": "code",
      "source": [
        "D = np.var(x, ddof = 1)\n",
        "D"
      ],
      "metadata": {
        "colab": {
          "base_uri": "https://localhost:8080/"
        },
        "id": "BEw0FBtX1Wmh",
        "outputId": "7b4d4c1d-9aa9-4f27-8a48-98a65c4fc6d5"
      },
      "execution_count": 101,
      "outputs": [
        {
          "output_type": "execute_result",
          "data": {
            "text/plain": [
              "0.2032222222222223"
            ]
          },
          "metadata": {},
          "execution_count": 101
        }
      ]
    },
    {
      "cell_type": "code",
      "source": [
        "t = stats.t.ppf(0.975, len(x)-1)\n",
        "t"
      ],
      "metadata": {
        "colab": {
          "base_uri": "https://localhost:8080/"
        },
        "id": "CcZqr1Jl1j4l",
        "outputId": "5d3cd317-d7e6-433c-d50d-469d6b89f08e"
      },
      "execution_count": 102,
      "outputs": [
        {
          "output_type": "execute_result",
          "data": {
            "text/plain": [
              "2.2621571627409915"
            ]
          },
          "metadata": {},
          "execution_count": 102
        }
      ]
    },
    {
      "cell_type": "code",
      "source": [
        "x_1 = x_mean + t * np.sqrt(D/len(x))"
      ],
      "metadata": {
        "id": "KS_E-8lw2xCe"
      },
      "execution_count": 103,
      "outputs": []
    },
    {
      "cell_type": "code",
      "source": [
        "x_2 = x_mean - t * np.sqrt(D/len(x))"
      ],
      "metadata": {
        "id": "QncL95k52YEJ"
      },
      "execution_count": 104,
      "outputs": []
    },
    {
      "cell_type": "code",
      "source": [
        "print(f'Нижнаяя граница {x_2}; Верхняя граница {x_1}.')"
      ],
      "metadata": {
        "colab": {
          "base_uri": "https://localhost:8080/"
        },
        "id": "dXsG_3_p3BKy",
        "outputId": "b1516dc2-e7f2-4832-d2fc-1e801e08855d"
      },
      "execution_count": 105,
      "outputs": [
        {
          "output_type": "stream",
          "name": "stdout",
          "text": [
            "Нижнаяя граница 6.267515851415713; Верхняя граница 6.912484148584288.\n"
          ]
        }
      ]
    },
    {
      "cell_type": "markdown",
      "source": [
        "# Задача 3\n",
        "Рост дочерей 175, 167, 154, 174, 178, 148, 160, 167, 169, 170\n",
        "\n",
        "Рост матерей  178, 165, 165, 173, 168, 155, 160, 164, 178, 175\n",
        "> Используя эти данные построить 95% доверительный интервал для разности среднего роста родителей и детей.\n",
        "\n",
        "![Screenshot_1.png](data:image/png;base64,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)"
      ],
      "metadata": {
        "id": "T1F5Znq-3ntT"
      }
    },
    {
      "cell_type": "code",
      "source": [
        "daughters = np.array([175, 167, 154, 174, 178, 148, 160, 167, 169, 170])\n",
        "mothers = np.array([178, 165, 165, 173, 168, 155, 160, 164, 178, 175])"
      ],
      "metadata": {
        "id": "1fiI8jOh3t33"
      },
      "execution_count": 106,
      "outputs": []
    },
    {
      "cell_type": "code",
      "source": [
        "d_mean = np.mean(daughters)\n",
        "d_mean"
      ],
      "metadata": {
        "colab": {
          "base_uri": "https://localhost:8080/"
        },
        "id": "4C7FfNnb4WRa",
        "outputId": "5fc899d2-1208-4be9-d127-ce5fbf312827"
      },
      "execution_count": 107,
      "outputs": [
        {
          "output_type": "execute_result",
          "data": {
            "text/plain": [
              "166.2"
            ]
          },
          "metadata": {},
          "execution_count": 107
        }
      ]
    },
    {
      "cell_type": "code",
      "source": [
        "m_mean = np.mean(mothers)\n",
        "m_mean"
      ],
      "metadata": {
        "colab": {
          "base_uri": "https://localhost:8080/"
        },
        "id": "q9KBaRGD4gtJ",
        "outputId": "a45ed951-7524-4d5c-ba34-793f1488700d"
      },
      "execution_count": 108,
      "outputs": [
        {
          "output_type": "execute_result",
          "data": {
            "text/plain": [
              "168.1"
            ]
          },
          "metadata": {},
          "execution_count": 108
        }
      ]
    },
    {
      "cell_type": "code",
      "source": [
        "dlt = m_mean - d_mean\n",
        "dlt"
      ],
      "metadata": {
        "colab": {
          "base_uri": "https://localhost:8080/"
        },
        "id": "eERMqAPg4p41",
        "outputId": "2a5d980d-e759-40f9-caf8-2d4789db934a"
      },
      "execution_count": 109,
      "outputs": [
        {
          "output_type": "execute_result",
          "data": {
            "text/plain": [
              "1.9000000000000057"
            ]
          },
          "metadata": {},
          "execution_count": 109
        }
      ]
    },
    {
      "cell_type": "code",
      "source": [
        "D1 = np.var (daughters, ddof = 1)\n",
        "D1"
      ],
      "metadata": {
        "colab": {
          "base_uri": "https://localhost:8080/"
        },
        "id": "R-PlONVU45B7",
        "outputId": "15290610-00d2-449a-cb78-827dd3868603"
      },
      "execution_count": 110,
      "outputs": [
        {
          "output_type": "execute_result",
          "data": {
            "text/plain": [
              "91.06666666666666"
            ]
          },
          "metadata": {},
          "execution_count": 110
        }
      ]
    },
    {
      "cell_type": "code",
      "source": [
        "D2 = np.var (mothers, ddof = 1)\n",
        "D2"
      ],
      "metadata": {
        "colab": {
          "base_uri": "https://localhost:8080/"
        },
        "id": "7FIulV-a5B55",
        "outputId": "e739089c-178b-4de0-da6a-5a860f73af97"
      },
      "execution_count": 111,
      "outputs": [
        {
          "output_type": "execute_result",
          "data": {
            "text/plain": [
              "60.10000000000001"
            ]
          },
          "metadata": {},
          "execution_count": 111
        }
      ]
    },
    {
      "cell_type": "code",
      "source": [
        "D = (D1 + D2)/2\n",
        "D"
      ],
      "metadata": {
        "colab": {
          "base_uri": "https://localhost:8080/"
        },
        "id": "i7FwBYma5JJm",
        "outputId": "7bcd412e-d1eb-43ea-daa4-1d41fcc05f86"
      },
      "execution_count": 112,
      "outputs": [
        {
          "output_type": "execute_result",
          "data": {
            "text/plain": [
              "75.58333333333334"
            ]
          },
          "metadata": {},
          "execution_count": 112
        }
      ]
    },
    {
      "cell_type": "code",
      "source": [
        "SE = np.sqrt (D/len(daughters) + D/len(mothers))\n",
        "SE"
      ],
      "metadata": {
        "colab": {
          "base_uri": "https://localhost:8080/"
        },
        "id": "nGCIq6Ip5SQ9",
        "outputId": "3a3e106f-cc14-4027-ad1e-f58e060096e0"
      },
      "execution_count": 113,
      "outputs": [
        {
          "output_type": "execute_result",
          "data": {
            "text/plain": [
              "3.8880157750022915"
            ]
          },
          "metadata": {},
          "execution_count": 113
        }
      ]
    },
    {
      "cell_type": "code",
      "source": [
        "l = 2* (10 -1)\n",
        "l"
      ],
      "metadata": {
        "colab": {
          "base_uri": "https://localhost:8080/"
        },
        "id": "rNXYbEfR53se",
        "outputId": "137f83a8-869d-48b4-fb84-909e5f5c89fc"
      },
      "execution_count": 114,
      "outputs": [
        {
          "output_type": "execute_result",
          "data": {
            "text/plain": [
              "18"
            ]
          },
          "metadata": {},
          "execution_count": 114
        }
      ]
    },
    {
      "cell_type": "code",
      "source": [
        "t = stats.t.ppf(0.975, l)\n",
        "t"
      ],
      "metadata": {
        "colab": {
          "base_uri": "https://localhost:8080/"
        },
        "id": "4P5WAjub5gVH",
        "outputId": "a4cf9316-2d85-4538-bc8d-a6acb8c260c3"
      },
      "execution_count": 115,
      "outputs": [
        {
          "output_type": "execute_result",
          "data": {
            "text/plain": [
              "2.10092204024096"
            ]
          },
          "metadata": {},
          "execution_count": 115
        }
      ]
    },
    {
      "cell_type": "code",
      "source": [
        "md_1 = dlt + t*SE\n",
        "md_1"
      ],
      "metadata": {
        "colab": {
          "base_uri": "https://localhost:8080/"
        },
        "id": "ZiKNH9D86K1x",
        "outputId": "1ec84560-abf5-49b7-b2d7-29d4aeb3d1fb"
      },
      "execution_count": 116,
      "outputs": [
        {
          "output_type": "execute_result",
          "data": {
            "text/plain": [
              "10.068418034506857"
            ]
          },
          "metadata": {},
          "execution_count": 116
        }
      ]
    },
    {
      "cell_type": "code",
      "source": [
        "md_2 = dlt - t*SE\n",
        "md_2"
      ],
      "metadata": {
        "colab": {
          "base_uri": "https://localhost:8080/"
        },
        "id": "SuqSiUsx6V4i",
        "outputId": "39c38fa7-f2f2-40d9-b4a5-63639dc69bc2"
      },
      "execution_count": 117,
      "outputs": [
        {
          "output_type": "execute_result",
          "data": {
            "text/plain": [
              "-6.268418034506846"
            ]
          },
          "metadata": {},
          "execution_count": 117
        }
      ]
    },
    {
      "cell_type": "code",
      "source": [
        "print(f'Доверительный интервал для разности среднего роста родителей и детей. Нижнаяя граница {md_2}; Верхняя граница {md_1}.')"
      ],
      "metadata": {
        "colab": {
          "base_uri": "https://localhost:8080/"
        },
        "id": "DTKRZGqW6abJ",
        "outputId": "3f5c380c-2276-498c-c6a6-64ecfce6b4cf"
      },
      "execution_count": 118,
      "outputs": [
        {
          "output_type": "stream",
          "name": "stdout",
          "text": [
            "Доверительный интервал для разности среднего роста родителей и детей. Нижнаяя граница -6.268418034506846; Верхняя граница 10.068418034506857.\n"
          ]
        }
      ]
    }
  ]
}