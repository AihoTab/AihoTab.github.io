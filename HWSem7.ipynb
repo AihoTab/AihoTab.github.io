{
  "nbformat": 4,
  "nbformat_minor": 0,
  "metadata": {
    "colab": {
      "provenance": [],
      "authorship_tag": "ABX9TyOorH1i9YS/au+P8P8yTbx/",
      "include_colab_link": true
    },
    "kernelspec": {
      "name": "python3",
      "display_name": "Python 3"
    },
    "language_info": {
      "name": "python"
    }
  },
  "cells": [
    {
      "cell_type": "markdown",
      "metadata": {
        "id": "view-in-github",
        "colab_type": "text"
      },
      "source": [
        "<a href=\"https://colab.research.google.com/github/AihoTab/aihotab.github.io/blob/main/HWSem7.ipynb\" target=\"_parent\"><img src=\"https://colab.research.google.com/assets/colab-badge.svg\" alt=\"Open In Colab\"/></a>"
      ]
    },
    {
      "cell_type": "markdown",
      "source": [
        "# Задача 5\n",
        "Заявляется, что партия изготавливается со средним арифметическим 2,5 см. Проверить данную гипотезу, если известно, что размеры изделий подчинены нормальному закону распределения. Объем выборки 10, уровень статистической значимости 5%\n",
        "\n",
        "*   H0: партия изготавливается со средним арифметическим 2,5 см.\n",
        "*   H0: партия изготавливается со средним арифметическим не равным 2,5 см.\n",
        "\n",
        "\n",
        "![image.png](data:image/png;base64,iVBORw0KGgoAAAANSUhEUgAAAGgAAAAtCAYAAABCiS5+AAAQTUlEQVR4nN2bfWwUVffHP7M77ba7sIWWQmlLX7BQEAQhYCkgiIIligIChkDEQImJgaDoH7wY3/5RYiIkmvhgojZCgmhNK8QEAUWggBRKsdBWKJVaSl+gtPRtu7uzs3OfP/qb+XW7u7SlBXz4Jpt2Zu7ce/ace879nnPvIh5StLe3i+PHj4tNmzaJ4uLiezaOpml+95qamsSWLVsE4Dd2U1OTz7Xb7RZerzdo/zIPIVwuF2fOnGH37t1kZGQQFxdHaWkpra2tpKWl9etYkiT5XAshsFgsLFy4kCFDhmC1WlFVFQBZlomIiEAIgcfjwev1Eh4ebsgcFhYGgMfjISQkpOOdfpX2X4Lbt2/zxx9/cObMGUwmE3l5edTW1jJ37tx+N1BXCCEICwtj3LhxjB07Frvd7tdGkiRCQ0N97lksFoQQSJJkGAdAEkKIeyrxA4CmaTidThwOB2azGVmWUVUVu93u8+Xv1dher5eQkBBUVUWWZWpqamhvbyc8PByTyURbWxs2m43Y2Figw6g6unokfQzB/xMItE7cK3i9XuHxeIQQQlRWVorc3FyRkZEhAJ/Pjh07RENDg9A0zfgEwkPpQZ2hx3Pxf+HjThB3msm9gMPh4MqVK+zYsYNdu3axdu1akpOTyc7OZubMmYwYMYLZs2czdepUn3ECjXlf16Bgc6EvyugOeki7l2N0hdPpZP/+/ezatYsdO3awatUqmpubOXnyJDNnzmTx4sWEhIQYMt3JR0z3S2joUFKgz78NQghu3rxpsK/evnv79m3ef/99PvzwQ9auXUtkZCRmsxmHw8HFixdxuVx+nhNMD90aSAjh8+kLuvb1b4uuuqKuX7/Ol19+yYEDB3rdh6qqNDY2kpiYSHp6OhaLBYCGhgaOHTvG4MGDsVqtACiK0m1/9zXESZKEw+HwuWez2e6nCN3C4XDQ0NDAmTNnGDp0aK/fDwkJISoqisjISIMyt7S0cOrUKQCmTJmCLHeoXf97JwRt0XV269fHjh3D4XBgt9sZPnw4jzzyiE+77kLWuXPn2LRpEzt37mTixIndChhIrmBj9IQIBEN1dTUnTpwgKiqKhoYGhg0bRmNjI/n5+dy6dQu73U5aWppf/tIVHo8Hm83G4sWLOXDgAGazmaqqKr7++muysrIYN26c0dZk6n6F6XGI01FTU0NBQQH5+flUVFR0O0BXmM1mzp49i9frpa2trdfvS5LErVu3OHz4MFeuXOm3cFlXV8fVq1eZN28e69evp7q6mn379jFt2jQ2btxIe3t7j3Ior9fLsGHDWLNmDaNHjyYvL4/6+nq2b9/OsmXLGDRoUO8EC8bndW7u9XoNbu/xeITb7fZr0x2X74zTp0+LxMREkZ+f323bYDh58qQICQkRe/fu7fX4gaBpmnC73cLlcomff/5ZZGZmCkDExMSIrKwscfnyZeF2u4385k5QFEU0NzcLIYRwuVyioaHBuL4b+Xq9BoWGhtLS0oKmadjt9l6HFKfTic1mw2q13lVIKioqIjc3F4/Hw+DBg3v1bjB0Lr0MHz6ctrY2XnvtNSorK3G73SQlJREaGtojVifLslHe0fs0m80oimJ4oOhFvhXQQA6Hg3PnzpGdnc3169eZNWsWmZmZ2O12qqurycnJoaCggDVr1jBr1qyA7wdb/ENDQ9E0DUVRcLvdeL1eo62maUEpp8vl4vDhw+zevZvs7GwSExPZs2cPhw4dIjk5mUWLFhEXF2cooHOOIUmSUXbpCrfbjcViweVyUVdXx6efforVaiUzM5PS0lJWr16N3W5nyZIlQdefzuUdfUyv14vJZDLync5j92ZS+kmsKAq1tbWUlJSwdOlSTpw4wVtvvcXs2bNJSUkhNzeXDRs2ALB8+XK/wfT6F3SsVy6Xy+d5RUUFLS0t1NfXc+3aNWRZRpZlvF4vYWFhDBo0CIvFgslkMmaa/gXnz5+PoihkZ2ezceNGnn/+eWRZxmazERERYSjH4/EYfQ8YMIDw8HBaWlqwWq1Gu67KMpvNWK1WZs2axdixY3n88ceJj49n586dxMXF4XK5AhpIr1To8ur99YShBUPn6rdPL/oAKSkpxMTEoGkaHo8HgNLSUi5fvsyFCxfIzc1FlmVGjBjh17nVakWSJIqLi/nPf/7DF198EVCI+fPn+92bNm0aBw4cMHIHXdiQkBBkWfYJDbGxsaSkpBjXmqYBcPPmTQ4ePEhBQQE2mw273c6QIUM4ffo0a9asYcaMGT5j6kwqJCSEwYMHs3r1aoMex8TEsHr1atxuNwMHDvTZEtAREhKCy+VCURTMZrPhMWazuUcsLRA6G9fPzGazGVVVMZvNDBgwgJiYGDIyMvj2228JCwtj8+bNTJw4EavVGlAAfQYlJiYyZ84cRo4c6fO8qKiIffv2sXbtWhISEgwltbW1ERcX59OnPjt1xbS1tdHa2grgoyi9naqq5OTkUFJSwsqVKxk2bBiff/45P/30E+vWrSM9Pd1PXt3boUPZmqYZxm5tbSUiIsLwnK7GASguLubSpUsGNVdVFSGEEfb0SSWCsMyuESgyMpLHHnuM+Ph43G73/7O4zqzN4/GItrY2oSiKuH79unj77bcFILKzs0Vzc7NwuVxCUZReMxIhhPjtt99EcnKyOHv2rHFPH1fTNNHa2mqwHZ056tdNTU1i9erVYtq0aaKwsFAIIXx2I0tKSsT06dPF3r17DQaVmZkpPvroI9HS0hJQnr5Wuvfv3+9Xqe7r59ixY0b/hgdJkuRjZX3hbm9vN7L/MWPGBNyA6g3MZrMfEVBVlebmZux2u497m81mH5laW1spLy8nPT2d2NhYn51Hj8dDeXk5siwzfvx4QkNDKSsro6qqiqVLlzJw4MA+yR0MEydO5ODBg9jtdp/1NhjZEd3ka5IkkZqaarSVuz4UQhiMp6KiguPHj7Nz506gI5kbP3680V7TtLuKs6qqGmsbdISW8PBwPyrb+UsKIaiuriYvL48VK1YQFhbmkzgqikJDQwOyLGM2m2lubqagoIBDhw6xbt06Ghsb/SaAPkZfkJCQYITq/oDOcBVFITQ01L+SYDKZcLvdNDU1UVZWxsWLF8nKygKgqqoKp9PZJwG8Xi+KohgG0med7rGBDK5PGn390QuOiqLgcDhoampClmUiIyMpKCjg/PnzFBYWUlVVxejRo6mtreXIkSNcuXKlT7IHQmcipZOFu6mC6zCZTMaad/XqVX+SUFtbS1ZWFhERERw9epT169eTkpLCqlWrKCgo4IUXXjAUEhUVdcfBRJd8BDoYSl1dHVarFY/HY2xHm0ymoLNZz2N0dqcnfYWFhRw8eJBXXnmF8PBwxo8fz7vvvsuFCxdITU1l+fLlxMbGUl9fz6RJk/zqhv0Bk8lkTKpAJAI6ci0hhJH36Xowm83GtU5M3G43ERERXLhwgczMTH8D1dXV8c477wCwe/dunnzySRwOB2PGjGHr1q2MGDGC8PBwJkyYwOzZs+8ofCCFJyQk8M033zBs2DCfEBUsNuthVJZl4uPjmT17Nrt27aKpqQmPx8PkyZOJjo7GYrGQnJzMG2+8YfQVGhpKYmIiHo+HAQMGPLDtjeLiYkpLS6moqDAmrSRJmEwmwzA6UlNTmTt3LiaTieLiYv9DIxUVFdTW1hqLVWRkJNAR3v755x9aWloYOXIkSUlJxpGhYBBBSjm60hVFMZ5LkkRtbS1xcXF33MAqKiqioaEBRVFISkpizJgxQEd4sVgsPu+53W4jm7/f0L+7oihs27aNgoICnnvuOUaPHk14eDiKotDc3Ex4eDiyLBtrqiRJjBs3DkVR+OCDDwKf6um8+DudTj9DBFN8Z5SXl5Ofn09lZaXfM0mSaGxsxGKxGK6u///mm28CPSvF6whWxuksa09k7k/o45WWlrJ3717mzZvH1KlTg4bBrrh06RKfffZZ4FpcZ+UE8pKefFGz2UxxcTHbtm3rkUAAy5Yto6amhvj4eJ/7PVFuc3MzNTU13cqqe9y9gl7bg46J8+eff5KUlMSUKVN8jKOvu511rX/P2tpacnNzO7bGA3lQX6HnJ06nk1u3bhn39birn1XTPUdVVZxOJ3a7HSGEMSl6QuOdTqdBGH744Qe/510N9Mknn9zxeV+hEx+AxsZGvvvuOx599FGefvppWltbaWhooL29nejoaKKjo6mtrcXhcCDLsrGWqqpKe3t7B3HqbwO1tbUxYMCAPvcTKGwFYoX6tZ47dEVXA3Su80HfiprBoMtWVFTE999/z6uvvkpiYiJFRUUcPXqU7OxsXn/9dRISErh48SJ5eXlYLBbee+89UlNTDZk0Tev/Mwl6PqMnWoEE1/9qmoaqqgHjsizLtLa2+lQAgp0h0/OjQOG4qwfej3VICIHJZKKlpYWhQ4cSFxdHe3s7N27cYO7cuXg8HrKysnjxxRd55plnSElJYdGiRaxZs8ZnS1xV1f43kK6AQKX5zowNMOhzMPSkPCOE6HEZR99v6k+oqorb7aasrIz4+HijuKqqKiUlJUybNo2BAwcihGDhwoXU19cbhdUFCxYwcuRIampqmDFjhs8hFVVVO5aEfpX2AaCrwjVNw+FwGNWQlpaWoG37Azdu3CAnJ4ft27fz+++/G2Ncu3aNuro6v9rlzZs3OX36NAsWLGD48OEAVFZWEh8fb5xXUFUVTdM61up+l/gB4/Lly/z4449cv37dqPmtXLmSjIwMXC5Xt7lbb+HxeIiPjycmJoY9e/YwdepUkpOTuXbtGmaz2dgz06shzc3N5Ofn89lnnxEZGcnff//Nr7/+Snp6OtHR0YZxZFl+ODyoK6qqqoiNjWXDhg1s2rQJi8XC+fPnqa6u7nfjAERHRzNnzhyWLFnCxYsXuXz5MtCxsxwZGenjQZqmcfXqVdLT04mJiQE61uqSkhJiY2ONsx533LDrLbqSwAd9lPfZZ5812F59fT3JyclIktT74049hM1mQwjBuHHjWLx4MTk5OUyaNIny8nKfHV/o0NVff/1FSkqKMVl0yn3p0iUcDgdpaWmkpKRgt9s70ox7IvUDhMvlMirkJSUlFBYWkpaWdk/otA5JkrDZbKSlpVFeXs5XX32F0+kMmBRPnz6dFStWMHDgQDRNY9SoUWzevJmhQ4eSmprKhAkTDK8zmUx9/31Qf5xL62+4XC5x7NgxsWXLFnHq1Cmfs3z3Avrucl1dnVi3bp0AxMcffyxaW1v95NKhaZpwuVyGznQZNU0TTqfT2Cl+6DzI4XBQWFjIL7/8wssvv8zkyZONinFf9mnuBK/Xa5zTy8jIAGDUqFE+bUSnJFv/dYNeHHW73caekiRJhIWFGfnbQ/cDrrKyMrZu3crUqVN56qmnEEJQWVnJjBkz/Gp89wI3btzgyJEjPPHEEyQkJBg/HtPV3Nsd6IfOQDk5ORw+fJioqCg0TaOtrY1Ro0bx0ksvERUV1eNqcl+g1xCDJca9IVIPnYGgIzeRJAmv12uEEJvNdtfn1HqDpqYmn4RT3ym+W3b7UBoIfMv+cOdjxf0JTdOM83T9MeZDa6B/A0SXivvd4KEr9fyb0B/e+j9Ns0Wn7YuHNRD8F+dXbaTNbOx0AAAAAElFTkSuQmCC)"
      ],
      "metadata": {
        "id": "1t3Cn3JYzCQE"
      }
    },
    {
      "cell_type": "code",
      "source": [
        "import numpy as np\n",
        "from scipy import stats"
      ],
      "metadata": {
        "id": "7_IM7eAk0vC9"
      },
      "execution_count": null,
      "outputs": []
    },
    {
      "cell_type": "code",
      "source": [
        "x = ([2.51, 2.35, 2.74, 2.56, 2.40, 2.36, 2.65, 2.7, 2.67, 2.34])"
      ],
      "metadata": {
        "id": "ncDqx6aeybu8"
      },
      "execution_count": null,
      "outputs": []
    },
    {
      "cell_type": "code",
      "source": [
        "x_mean = np.mean(x)\n",
        "x_mean"
      ],
      "metadata": {
        "colab": {
          "base_uri": "https://localhost:8080/"
        },
        "id": "Mbl_nHM4y1fv",
        "outputId": "a1e120c4-a747-4c69-c477-fe7ed7be6861"
      },
      "execution_count": null,
      "outputs": [
        {
          "output_type": "execute_result",
          "data": {
            "text/plain": [
              "2.5279999999999996"
            ]
          },
          "metadata": {},
          "execution_count": 11
        }
      ]
    },
    {
      "cell_type": "code",
      "source": [
        "l = np.std(x, ddof = 1)\n",
        "l"
      ],
      "metadata": {
        "colab": {
          "base_uri": "https://localhost:8080/"
        },
        "id": "EfQLKogU1jp_",
        "outputId": "47d9f9d5-c6d8-4cef-d0ca-1c400a5cc081"
      },
      "execution_count": null,
      "outputs": [
        {
          "output_type": "execute_result",
          "data": {
            "text/plain": [
              "0.1572542173961923"
            ]
          },
          "metadata": {},
          "execution_count": 12
        }
      ]
    },
    {
      "cell_type": "code",
      "source": [
        "t = stats.t.ppf(0.975, len(x)-1)\n",
        "t"
      ],
      "metadata": {
        "colab": {
          "base_uri": "https://localhost:8080/"
        },
        "id": "YFkOo2WmyYse",
        "outputId": "9b2d857c-cfc4-4616-8557-dcc3cf3df03c"
      },
      "execution_count": null,
      "outputs": [
        {
          "output_type": "execute_result",
          "data": {
            "text/plain": [
              "2.2621571627409915"
            ]
          },
          "metadata": {},
          "execution_count": 13
        }
      ]
    },
    {
      "cell_type": "code",
      "source": [
        "x_1 = x_mean + t/2 * l/np.sqrt(len(x))\n",
        "x_1"
      ],
      "metadata": {
        "colab": {
          "base_uri": "https://localhost:8080/"
        },
        "id": "xVuD0Ul3zVjD",
        "outputId": "071c46a5-61d8-49fe-f50a-263be60714a7"
      },
      "execution_count": null,
      "outputs": [
        {
          "output_type": "execute_result",
          "data": {
            "text/plain": [
              "2.5842464452022664"
            ]
          },
          "metadata": {},
          "execution_count": 14
        }
      ]
    },
    {
      "cell_type": "code",
      "source": [
        "x_2 = x_mean - t/2 * l/np.sqrt(len(x))\n",
        "x_2"
      ],
      "metadata": {
        "colab": {
          "base_uri": "https://localhost:8080/"
        },
        "id": "ZHyUEMre0sP0",
        "outputId": "ad5d258d-ab77-473a-da00-843e74686efa"
      },
      "execution_count": null,
      "outputs": [
        {
          "output_type": "execute_result",
          "data": {
            "text/plain": [
              "2.4717535547977327"
            ]
          },
          "metadata": {},
          "execution_count": 15
        }
      ]
    },
    {
      "cell_type": "code",
      "source": [
        "x_1 - x_2"
      ],
      "metadata": {
        "colab": {
          "base_uri": "https://localhost:8080/"
        },
        "id": "nd-tWpt-gxHf",
        "outputId": "5ab54065-54f6-4490-eb64-cfb02b5894a4"
      },
      "execution_count": null,
      "outputs": [
        {
          "output_type": "execute_result",
          "data": {
            "text/plain": [
              "0.1124928904045337"
            ]
          },
          "metadata": {},
          "execution_count": 18
        }
      ]
    },
    {
      "cell_type": "code",
      "source": [
        "print(f'Нижнаяя граница {x_2}; Верхняя граница {x_1}.')"
      ],
      "metadata": {
        "colab": {
          "base_uri": "https://localhost:8080/"
        },
        "id": "azVpegzVgi4Z",
        "outputId": "34186a19-3f28-407a-ded6-fd5c5a568700"
      },
      "execution_count": null,
      "outputs": [
        {
          "output_type": "stream",
          "name": "stdout",
          "text": [
            "Нижнаяя граница 2.4717535547977327; Верхняя граница 2.5842464452022664.\n"
          ]
        }
      ]
    },
    {
      "cell_type": "markdown",
      "source": [
        "Партия изготавливается со средним арифметическим 2,5 см. На уровне значимости α = 5% принимаем нулевую гипотезу"
      ],
      "metadata": {
        "id": "eosrImOF2crZ"
      }
    },
    {
      "cell_type": "markdown",
      "source": [
        "# Задача 1\n",
        "Даны две  независимые выборки. Не соблюдается условие нормальности\n",
        "\n",
        "*   H0: статистически значимых различий нет\n",
        "*   H1: статистически значимыe различия есть\n",
        "\n"
      ],
      "metadata": {
        "id": "5KUjVf6-9e2Q"
      }
    },
    {
      "cell_type": "code",
      "source": [
        "x1 = np.array([380,420, 290])"
      ],
      "metadata": {
        "id": "syN0cKCP9jNj"
      },
      "execution_count": null,
      "outputs": []
    },
    {
      "cell_type": "code",
      "source": [
        "y1 = np.array([140,360,200,900])"
      ],
      "metadata": {
        "id": "6yrBICwH9qou"
      },
      "execution_count": null,
      "outputs": []
    },
    {
      "cell_type": "code",
      "source": [
        "stats.mannwhitneyu(x1,y1)"
      ],
      "metadata": {
        "colab": {
          "base_uri": "https://localhost:8080/"
        },
        "id": "G-NAfsnL9vW5",
        "outputId": "1e5b088b-31b3-47fd-e9b1-b62b174895fb"
      },
      "execution_count": null,
      "outputs": [
        {
          "output_type": "execute_result",
          "data": {
            "text/plain": [
              "MannwhitneyuResult(statistic=8.0, pvalue=0.6285714285714286)"
            ]
          },
          "metadata": {},
          "execution_count": 16
        }
      ]
    },
    {
      "cell_type": "markdown",
      "source": [
        "На уровне значимости α = 5%, статистически значимых различий нет. Принимаем нулевую гипотезу"
      ],
      "metadata": {
        "id": "YLdyEVk--3rE"
      }
    },
    {
      "cell_type": "markdown",
      "source": [
        "# Задача 2\n",
        "Исследовалось влияние препарата на уровень давления пациентов. Сначала измерялось давление до приема препарата, потом через 10 минут и через 30 минут. Есть ли статистически значимые различия?\n",
        "\n",
        "*   H0: статистически значимых различий нет\n",
        "*   H1: статистически значимыe различия есть\n",
        "\n"
      ],
      "metadata": {
        "id": "6-G__K4e-D1I"
      }
    },
    {
      "cell_type": "code",
      "source": [
        "x_before = np.array ([150, 160, 165, 145, 155])"
      ],
      "metadata": {
        "id": "W9NiIkOq_-xy"
      },
      "execution_count": null,
      "outputs": []
    },
    {
      "cell_type": "code",
      "source": [
        "x_10_min = np.array ([140, 155, 150,  130, 135])"
      ],
      "metadata": {
        "id": "f_h1pZnJANKd"
      },
      "execution_count": null,
      "outputs": []
    },
    {
      "cell_type": "code",
      "source": [
        "x_30_min = np.array ([130, 130, 120, 130, 125])"
      ],
      "metadata": {
        "id": "iF68njPQAaTq"
      },
      "execution_count": null,
      "outputs": []
    },
    {
      "cell_type": "code",
      "source": [
        "stats.friedmanchisquare(x_before,x_10_min, x_30_min)"
      ],
      "metadata": {
        "colab": {
          "base_uri": "https://localhost:8080/"
        },
        "id": "mZqSgyZKAd60",
        "outputId": "dea46dee-9717-44e8-db41-408fc4ec6f41"
      },
      "execution_count": null,
      "outputs": [
        {
          "output_type": "execute_result",
          "data": {
            "text/plain": [
              "FriedmanchisquareResult(statistic=9.578947368421062, pvalue=0.00831683351100441)"
            ]
          },
          "metadata": {},
          "execution_count": 20
        }
      ]
    },
    {
      "cell_type": "markdown",
      "source": [
        "На уровне значимости α = 5%, статистически значимыe различия есть. Принимаем альтернативную гипотезу."
      ],
      "metadata": {
        "id": "pl1EKMb1AwNi"
      }
    },
    {
      "cell_type": "markdown",
      "source": [
        "# Задача 3\n",
        "Сравните 1 и 2 е измерения, предполагая, что 3го измерения через 30 минут не было\n",
        "\n",
        "*   H0: статистически значимых различий нет\n",
        "*   H1: статистически значимыe различия есть\n",
        "\n"
      ],
      "metadata": {
        "id": "OtKN0LhiBQt5"
      }
    },
    {
      "cell_type": "code",
      "source": [
        "x_before = np.array ([150, 160, 165, 145, 155])"
      ],
      "metadata": {
        "id": "lnbsVNKdBa1g"
      },
      "execution_count": null,
      "outputs": []
    },
    {
      "cell_type": "code",
      "source": [
        "x_10_min = np.array ([140, 155, 150,  130, 135])"
      ],
      "metadata": {
        "id": "vOLA2QTkBcbL"
      },
      "execution_count": null,
      "outputs": []
    },
    {
      "cell_type": "code",
      "source": [
        "stats.wilcoxon(x_before,x_10_min)"
      ],
      "metadata": {
        "colab": {
          "base_uri": "https://localhost:8080/"
        },
        "id": "usnKcmKvBeRr",
        "outputId": "e72248a0-7aac-42a3-849c-c481f933518c"
      },
      "execution_count": null,
      "outputs": [
        {
          "output_type": "execute_result",
          "data": {
            "text/plain": [
              "WilcoxonResult(statistic=0.0, pvalue=0.0625)"
            ]
          },
          "metadata": {},
          "execution_count": 23
        }
      ]
    },
    {
      "cell_type": "markdown",
      "source": [
        "На уровне значимости α = 5%, статистически значимых различий нет. Принимаем нулевую гипотезу"
      ],
      "metadata": {
        "id": "1gp6whglBqS5"
      }
    },
    {
      "cell_type": "markdown",
      "source": [
        "# Задача 4\n",
        "Даны 3 группы  учеников плавания.\n",
        "\n",
        "В 1 группе время на дистанцию 50 м составляют: 56, 60, 62, 55, 71, 67, 59, 58, 64, 67\n",
        "\n",
        "Вторая группа : 57, 58, 69, 48, 72, 70, 68, 71, 50, 53\n",
        "\n",
        "Третья группа: 57, 67, 49, 48, 47, 55, 66, 51, 54\n",
        "*   H0: статистически значимых различий нет\n",
        "*   H1: статистически значимыe различия есть\n"
      ],
      "metadata": {
        "id": "EBDSVyLRBrQF"
      }
    },
    {
      "cell_type": "code",
      "source": [
        "gr_1 = np.array ([56, 60, 62, 55, 71, 67, 59, 58, 64, 67])"
      ],
      "metadata": {
        "id": "tD5hAKWaCAbD"
      },
      "execution_count": null,
      "outputs": []
    },
    {
      "cell_type": "code",
      "source": [
        "gr_2 = np.array ([ 57, 58, 69, 48, 72, 70, 68, 71, 50, 53])"
      ],
      "metadata": {
        "id": "h8yJ4I6bCRtX"
      },
      "execution_count": null,
      "outputs": []
    },
    {
      "cell_type": "code",
      "source": [
        "gr_3 = np.array ([ 57, 67, 49, 48, 47, 55, 66, 51, 54])"
      ],
      "metadata": {
        "id": "0BwV1gZ7CY_c"
      },
      "execution_count": null,
      "outputs": []
    },
    {
      "cell_type": "code",
      "source": [
        "stats.kruskal(gr_1, gr_2, gr_3)"
      ],
      "metadata": {
        "colab": {
          "base_uri": "https://localhost:8080/"
        },
        "id": "otYP5_DuCbSr",
        "outputId": "97d188db-fdcc-47ab-e0be-da3acd81950b"
      },
      "execution_count": null,
      "outputs": [
        {
          "output_type": "execute_result",
          "data": {
            "text/plain": [
              "KruskalResult(statistic=6.994219653179171, pvalue=0.030284785339458477)"
            ]
          },
          "metadata": {},
          "execution_count": 29
        }
      ]
    },
    {
      "cell_type": "markdown",
      "source": [
        "На уровне значимости α = 5%, статистически значимыe различия есть. Принимаем альтернативную гипотезу."
      ],
      "metadata": {
        "id": "3P7JcNxCDFeh"
      }
    }
  ]
}