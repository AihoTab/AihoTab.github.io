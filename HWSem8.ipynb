{
  "nbformat": 4,
  "nbformat_minor": 0,
  "metadata": {
    "colab": {
      "provenance": [],
      "collapsed_sections": [
        "50QAN4FC4U8P",
        "Uxx09bO36yLt"
      ],
      "authorship_tag": "ABX9TyO2WpN3yKk8GDTCl0u/GI8f",
      "include_colab_link": true
    },
    "kernelspec": {
      "name": "python3",
      "display_name": "Python 3"
    },
    "language_info": {
      "name": "python"
    }
  },
  "cells": [
    {
      "cell_type": "markdown",
      "metadata": {
        "id": "view-in-github",
        "colab_type": "text"
      },
      "source": [
        "<a href=\"https://colab.research.google.com/github/AihoTab/aihotab.github.io/blob/main/HWSem8.ipynb\" target=\"_parent\"><img src=\"https://colab.research.google.com/assets/colab-badge.svg\" alt=\"Open In Colab\"/></a>"
      ]
    },
    {
      "cell_type": "markdown",
      "source": [
        "# Задача 3.\n",
        "Известно, что рост футболистов в сборной распределен нормально с дисперсией генеральной совокупности, равной 25 кв.см. Объем выборки равен 27, среднее выборочное составляет 174.2. \n",
        "> Найдите доверительный интервал для математического ожидания с надежностью 0.95\n",
        "\n",
        "![image.png](data:image/png;base64,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)\n"
      ],
      "metadata": {
        "id": "50QAN4FC4U8P"
      }
    },
    {
      "cell_type": "code",
      "execution_count": 72,
      "metadata": {
        "id": "MdXOPR4m4R-5"
      },
      "outputs": [],
      "source": [
        "import numpy as np\n",
        "import pandas as pd\n",
        "import matplotlib.pyplot as plt\n",
        "\n",
        "from scipy import stats\n"
      ]
    },
    {
      "cell_type": "code",
      "source": [
        "x_mean = 174.2"
      ],
      "metadata": {
        "id": "Z6PSvTZE4_-_"
      },
      "execution_count": 45,
      "outputs": []
    },
    {
      "cell_type": "code",
      "source": [
        "n = 27"
      ],
      "metadata": {
        "id": "uKjCwFw75JxY"
      },
      "execution_count": 46,
      "outputs": []
    },
    {
      "cell_type": "code",
      "source": [
        "Dg = 25"
      ],
      "metadata": {
        "id": "ndpC5l5t5MJw"
      },
      "execution_count": 47,
      "outputs": []
    },
    {
      "cell_type": "code",
      "source": [
        "z = 1.96"
      ],
      "metadata": {
        "id": "iiFosh915Xh0"
      },
      "execution_count": 48,
      "outputs": []
    },
    {
      "cell_type": "code",
      "source": [
        "x_1 = x_mean - z * Dg / np.sqrt (n)\n",
        "x_1"
      ],
      "metadata": {
        "colab": {
          "base_uri": "https://localhost:8080/"
        },
        "id": "pxbYwFUr5us9",
        "outputId": "2b0e74d1-f9c8-4cec-ab27-8cef117d310b"
      },
      "execution_count": 49,
      "outputs": [
        {
          "output_type": "execute_result",
          "data": {
            "text/plain": [
              "164.7699456032361"
            ]
          },
          "metadata": {},
          "execution_count": 49
        }
      ]
    },
    {
      "cell_type": "code",
      "source": [
        "x_2 = x_mean + z * Dg / np.sqrt (n)\n",
        "x_2"
      ],
      "metadata": {
        "colab": {
          "base_uri": "https://localhost:8080/"
        },
        "id": "TWmMc8Uv6SaS",
        "outputId": "7e84b07c-0fe8-463a-8ff9-e5efd3628e3f"
      },
      "execution_count": 50,
      "outputs": [
        {
          "output_type": "execute_result",
          "data": {
            "text/plain": [
              "183.63005439676388"
            ]
          },
          "metadata": {},
          "execution_count": 50
        }
      ]
    },
    {
      "cell_type": "code",
      "source": [
        "print(f'Нижнаяя граница доверительного интервала роста футболистов: {x_1}; Верхняя граница {x_2}.')"
      ],
      "metadata": {
        "colab": {
          "base_uri": "https://localhost:8080/"
        },
        "id": "K0K-J84x6fUf",
        "outputId": "5e259eac-c606-4e2d-caee-cd258923ff54"
      },
      "execution_count": 51,
      "outputs": [
        {
          "output_type": "stream",
          "name": "stdout",
          "text": [
            "Нижнаяя граница доверительного интервала роста футболистов: 164.7699456032361; Верхняя граница 183.63005439676388.\n"
          ]
        }
      ]
    },
    {
      "cell_type": "markdown",
      "source": [
        "# Задача 2.\n",
        "Измерены значения IQ выборки студентов,\n",
        "обучающихся в местных технических вузах:\n",
        "\n",
        "131, 125, 115, 122, 131, 115, 107, 99, 125, 111.\n",
        "\n",
        "Известно, что в генеральной совокупности IQ распределен нормально.\n",
        "> Найдите доверительный интервал для математического ожидания с надежностью 0.95.\n",
        "\n",
        "![image.png](data:image/png;base64,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)\n",
        "\n",
        "\n"
      ],
      "metadata": {
        "id": "Uxx09bO36yLt"
      }
    },
    {
      "cell_type": "code",
      "source": [
        "x = np.array([131, 125, 115, 122, 131, 115, 107, 99, 125, 111])"
      ],
      "metadata": {
        "id": "5VdWIP0J65dt"
      },
      "execution_count": 52,
      "outputs": []
    },
    {
      "cell_type": "code",
      "source": [
        "x_mean = np.mean(x)\n",
        "x_mean"
      ],
      "metadata": {
        "colab": {
          "base_uri": "https://localhost:8080/"
        },
        "id": "Ue99GsCo7F90",
        "outputId": "4dcef793-c9d9-4858-979a-fd861b8465b6"
      },
      "execution_count": 53,
      "outputs": [
        {
          "output_type": "execute_result",
          "data": {
            "text/plain": [
              "118.1"
            ]
          },
          "metadata": {},
          "execution_count": 53
        }
      ]
    },
    {
      "cell_type": "code",
      "source": [
        "D = np.var(x, ddof = 1)\n",
        "D"
      ],
      "metadata": {
        "colab": {
          "base_uri": "https://localhost:8080/"
        },
        "id": "99HZAU4K7IvE",
        "outputId": "33e33ac8-6cb5-45f4-bfb8-6281048dcc47"
      },
      "execution_count": 54,
      "outputs": [
        {
          "output_type": "execute_result",
          "data": {
            "text/plain": [
              "111.21111111111111"
            ]
          },
          "metadata": {},
          "execution_count": 54
        }
      ]
    },
    {
      "cell_type": "code",
      "source": [
        "t = stats.t.ppf(0.975, len(x)-1)\n",
        "t"
      ],
      "metadata": {
        "colab": {
          "base_uri": "https://localhost:8080/"
        },
        "id": "-U60Nwlb7Kta",
        "outputId": "ea9a1167-04ae-4390-b2dc-3d45173c63a4"
      },
      "execution_count": 55,
      "outputs": [
        {
          "output_type": "execute_result",
          "data": {
            "text/plain": [
              "2.2621571627409915"
            ]
          },
          "metadata": {},
          "execution_count": 55
        }
      ]
    },
    {
      "cell_type": "code",
      "source": [
        "x_1 = x_mean + t * np.sqrt(D/len(x))\n",
        "x_1"
      ],
      "metadata": {
        "colab": {
          "base_uri": "https://localhost:8080/"
        },
        "id": "KPtf_JIj7M6f",
        "outputId": "56025cf8-4220-4ab5-c30a-54bfcc40a498"
      },
      "execution_count": 56,
      "outputs": [
        {
          "output_type": "execute_result",
          "data": {
            "text/plain": [
              "125.64391634841274"
            ]
          },
          "metadata": {},
          "execution_count": 56
        }
      ]
    },
    {
      "cell_type": "code",
      "source": [
        "x_2 = x_mean - t * np.sqrt(D/len(x))\n",
        "x_2"
      ],
      "metadata": {
        "colab": {
          "base_uri": "https://localhost:8080/"
        },
        "id": "Iu5rIpFE7OX5",
        "outputId": "c628141c-b7a1-40e8-992e-8c360c7a7627"
      },
      "execution_count": 57,
      "outputs": [
        {
          "output_type": "execute_result",
          "data": {
            "text/plain": [
              "110.55608365158724"
            ]
          },
          "metadata": {},
          "execution_count": 57
        }
      ]
    },
    {
      "cell_type": "code",
      "source": [
        "print(f'Нижнаяя граница доверительного интервала для математического ожидания значения IQ выборки студентов: {x_2}; Верхняя граница {x_1}.')"
      ],
      "metadata": {
        "colab": {
          "base_uri": "https://localhost:8080/"
        },
        "id": "Z4Vw00vq7cVh",
        "outputId": "bf3aa79a-f349-41c5-ea78-5d32bbc6debe"
      },
      "execution_count": 58,
      "outputs": [
        {
          "output_type": "stream",
          "name": "stdout",
          "text": [
            "Нижнаяя граница доверительного интервала для математического ожидания значения IQ выборки студентов: 110.55608365158724; Верхняя граница 125.64391634841274.\n"
          ]
        }
      ]
    },
    {
      "cell_type": "markdown",
      "source": [
        "# Задача 1.\n",
        "Даны значения величины заработной платы заемщиков банка (zp) и значения их поведенческого кредитного скоринга (ks): zp = [35, 45, 190, 200, 40, 70, 54, 150, 120, 110],\n",
        "ks = [401, 574, 874, 919, 459, 739, 653, 902, 746, 832].\n",
        "\n",
        "* Найдите ковариацию этих двух величин с помощью элементарных действий, а затем с помощью функции cov из numpy\n",
        "Полученные значения должны быть равны.\n",
        "* Найдите коэффициент корреляции Пирсона с помощью ковариации и среднеквадратичных отклонений двух признаков, а затем с использованием функций \n",
        "из библиотек numpy и pandas."
      ],
      "metadata": {
        "id": "HcRauC-B7uk8"
      }
    },
    {
      "cell_type": "code",
      "source": [
        "zp = np. array([35, 45, 190, 200, 40, 70, 54, 150, 120, 110])"
      ],
      "metadata": {
        "id": "BC-cvtZd70_G"
      },
      "execution_count": 59,
      "outputs": []
    },
    {
      "cell_type": "code",
      "source": [
        "ks = np.array([401, 574, 874, 919, 459, 739, 653, 902, 746, 832])"
      ],
      "metadata": {
        "id": "sgQTxKO7A7bp"
      },
      "execution_count": 60,
      "outputs": []
    },
    {
      "cell_type": "markdown",
      "source": [
        "Ковариация величин с помощью элементарных действий:\n",
        "\n",
        "\n",
        "\n",
        "\n",
        "\n",
        "\n",
        "\n",
        "![image.png](data:image/png;base64,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)"
      ],
      "metadata": {
        "id": "RuMv2YhtC3Os"
      }
    },
    {
      "cell_type": "code",
      "source": [
        "plt.scatter(zp, ks)"
      ],
      "metadata": {
        "colab": {
          "base_uri": "https://localhost:8080/",
          "height": 283
        },
        "id": "g-XJ45R_oKny",
        "outputId": "86b4fdc4-6ac2-4dda-91f5-a4ba46799641"
      },
      "execution_count": 74,
      "outputs": [
        {
          "output_type": "execute_result",
          "data": {
            "text/plain": [
              "<matplotlib.collections.PathCollection at 0x7f60247f07c0>"
            ]
          },
          "metadata": {},
          "execution_count": 74
        },
        {
          "output_type": "display_data",
          "data": {
            "text/plain": [
              "<Figure size 432x288 with 1 Axes>"
            ],
            "image/png": "[encoded data removed]"
          },
          "metadata": {
            "needs_background": "light"
          }
        }
      ]
    },
    {
      "cell_type": "code",
      "source": [
        "zp_mean = np.mean(zp)\n",
        "zp_mean"
      ],
      "metadata": {
        "colab": {
          "base_uri": "https://localhost:8080/"
        },
        "id": "PBgS8_7_BYyU",
        "outputId": "92342b28-3bbf-4a1b-9131-3b59573ec532"
      },
      "execution_count": 61,
      "outputs": [
        {
          "output_type": "execute_result",
          "data": {
            "text/plain": [
              "101.4"
            ]
          },
          "metadata": {},
          "execution_count": 61
        }
      ]
    },
    {
      "cell_type": "code",
      "source": [
        "ks_mean = np.mean(ks)\n",
        "ks_mean"
      ],
      "metadata": {
        "colab": {
          "base_uri": "https://localhost:8080/"
        },
        "id": "OTwC_truBn6_",
        "outputId": "ee89bb75-e978-4878-d030-dda3faa4178b"
      },
      "execution_count": 62,
      "outputs": [
        {
          "output_type": "execute_result",
          "data": {
            "text/plain": [
              "709.9"
            ]
          },
          "metadata": {},
          "execution_count": 62
        }
      ]
    },
    {
      "cell_type": "code",
      "source": [
        "zpks_mean = np.mean(zp*ks)\n",
        "zpks_mean"
      ],
      "metadata": {
        "colab": {
          "base_uri": "https://localhost:8080/"
        },
        "id": "Io-FI7TdBu1o",
        "outputId": "91bb57a6-b893-4fb6-e44a-2dede51bf1e3"
      },
      "execution_count": 63,
      "outputs": [
        {
          "output_type": "execute_result",
          "data": {
            "text/plain": [
              "81141.7"
            ]
          },
          "metadata": {},
          "execution_count": 63
        }
      ]
    },
    {
      "cell_type": "code",
      "source": [
        "covar = zpks_mean - zp_mean * ks_mean\n",
        "covar"
      ],
      "metadata": {
        "colab": {
          "base_uri": "https://localhost:8080/"
        },
        "id": "As8PBqPCBCUV",
        "outputId": "af11df3e-f96d-4643-f8e0-fd71a63b02b5"
      },
      "execution_count": 64,
      "outputs": [
        {
          "output_type": "execute_result",
          "data": {
            "text/plain": [
              "9157.839999999997"
            ]
          },
          "metadata": {},
          "execution_count": 64
        }
      ]
    },
    {
      "cell_type": "markdown",
      "source": [
        " C помощью функции:"
      ],
      "metadata": {
        "id": "uVb0XnSmCyH2"
      }
    },
    {
      "cell_type": "code",
      "source": [
        "np.cov(zp, ks, ddof = 0)"
      ],
      "metadata": {
        "colab": {
          "base_uri": "https://localhost:8080/"
        },
        "id": "d69WlPZJCQSr",
        "outputId": "6421a2db-09ae-49bb-a7fc-5e398828df6f"
      },
      "execution_count": 65,
      "outputs": [
        {
          "output_type": "execute_result",
          "data": {
            "text/plain": [
              "array([[ 3494.64,  9157.84],\n",
              "       [ 9157.84, 30468.89]])"
            ]
          },
          "metadata": {},
          "execution_count": 65
        }
      ]
    },
    {
      "cell_type": "markdown",
      "source": [
        "Найдите коэффициент корреляции Пирсона с помощью ковариации и среднеквадратичных отклонений двух признаков:\n",
        "![image.png](data:image/png;base64,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)"
      ],
      "metadata": {
        "id": "04TXJlm_EjBV"
      }
    },
    {
      "cell_type": "code",
      "source": [
        "zp_sd = np.std(zp)"
      ],
      "metadata": {
        "id": "lUwXytsDElKC"
      },
      "execution_count": 66,
      "outputs": []
    },
    {
      "cell_type": "code",
      "source": [
        "ks_sd = np.std(ks)"
      ],
      "metadata": {
        "id": "iGRxfmVoEq-i"
      },
      "execution_count": 67,
      "outputs": []
    },
    {
      "cell_type": "code",
      "source": [
        "R = covar / (zp_sd * ks_sd)\n",
        "R"
      ],
      "metadata": {
        "colab": {
          "base_uri": "https://localhost:8080/"
        },
        "id": "EKKbVpFxFMEk",
        "outputId": "722f2b8f-4111-4c4f-d3a7-6b63372f11ec"
      },
      "execution_count": 68,
      "outputs": [
        {
          "output_type": "execute_result",
          "data": {
            "text/plain": [
              "0.8874900920739158"
            ]
          },
          "metadata": {},
          "execution_count": 68
        }
      ]
    },
    {
      "cell_type": "markdown",
      "source": [
        "C помощью функции из библиотеки numpy:"
      ],
      "metadata": {
        "id": "UlWf-QyuGchI"
      }
    },
    {
      "cell_type": "code",
      "source": [
        "np.corrcoef(zp, ks)"
      ],
      "metadata": {
        "colab": {
          "base_uri": "https://localhost:8080/"
        },
        "id": "fKcxZ8twFfRY",
        "outputId": "c14dd033-42ab-4141-ec60-8e95305521d9"
      },
      "execution_count": 69,
      "outputs": [
        {
          "output_type": "execute_result",
          "data": {
            "text/plain": [
              "array([[1.        , 0.88749009],\n",
              "       [0.88749009, 1.        ]])"
            ]
          },
          "metadata": {},
          "execution_count": 69
        }
      ]
    },
    {
      "cell_type": "markdown",
      "source": [
        "C помощью функции из библиотеки pandas:"
      ],
      "metadata": {
        "id": "TeV1UGB5nDsR"
      }
    },
    {
      "cell_type": "code",
      "source": [
        "dt = pd.DataFrame({'zp': zp, 'ks': ks})\n",
        "print(dt)"
      ],
      "metadata": {
        "colab": {
          "base_uri": "https://localhost:8080/"
        },
        "id": "Dann55Opo0ni",
        "outputId": "90682d86-db5c-4fd7-bfb2-a2263e7cd1bc"
      },
      "execution_count": 76,
      "outputs": [
        {
          "output_type": "stream",
          "name": "stdout",
          "text": [
            "    zp   ks\n",
            "0   35  401\n",
            "1   45  574\n",
            "2  190  874\n",
            "3  200  919\n",
            "4   40  459\n",
            "5   70  739\n",
            "6   54  653\n",
            "7  150  902\n",
            "8  120  746\n",
            "9  110  832\n"
          ]
        }
      ]
    },
    {
      "cell_type": "code",
      "source": [
        "print(dt.corr())"
      ],
      "metadata": {
        "colab": {
          "base_uri": "https://localhost:8080/"
        },
        "id": "rAv4Qvhtlnwk",
        "outputId": "4149dd9b-d4b2-4fba-cf8a-c94cfb7a0b6f"
      },
      "execution_count": 77,
      "outputs": [
        {
          "output_type": "stream",
          "name": "stdout",
          "text": [
            "         zp       ks\n",
            "zp  1.00000  0.88749\n",
            "ks  0.88749  1.00000\n"
          ]
        }
      ]
    }
  ]
}