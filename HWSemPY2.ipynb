{
  "cells": [
    {
      "cell_type": "code",
      "execution_count": null,
      "id": "9039a0de",
      "metadata": {
        "id": "9039a0de"
      },
      "outputs": [],
      "source": [
        "import pandas as pd\n",
        "import numpy as np"
      ]
    },
    {
      "cell_type": "markdown",
      "id": "904d33b8",
      "metadata": {
        "id": "904d33b8"
      },
      "source": [
        "## Домашнее задание 1.\n",
        "- Скачать данные по ссылке\n",
        "- Считать данные с помощью pandas\n",
        "- Вывести на экран первые 5 строк\n",
        "- Посмотреть на описание признаков и на их содержание\n"
      ]
    },
    {
      "cell_type": "code",
      "execution_count": null,
      "id": "9950041f",
      "metadata": {
        "id": "9950041f"
      },
      "outputs": [],
      "source": [
        "df = pd.read_csv('kc_house_data.csv')"
      ]
    },
    {
      "cell_type": "code",
      "execution_count": null,
      "id": "25e0be9d",
      "metadata": {
        "id": "25e0be9d",
        "outputId": "05f17c1c-de05-480a-826a-bf8c7a2a8a22"
      },
      "outputs": [
        {
          "data": {
            "text/html": [
              "<div>\n",
              "<style scoped>\n",
              "    .dataframe tbody tr th:only-of-type {\n",
              "        vertical-align: middle;\n",
              "    }\n",
              "\n",
              "    .dataframe tbody tr th {\n",
              "        vertical-align: top;\n",
              "    }\n",
              "\n",
              "    .dataframe thead th {\n",
              "        text-align: right;\n",
              "    }\n",
              "</style>\n",
              "<table border=\"1\" class=\"dataframe\">\n",
              "  <thead>\n",
              "    <tr style=\"text-align: right;\">\n",
              "      <th></th>\n",
              "      <th>id</th>\n",
              "      <th>date</th>\n",
              "      <th>price</th>\n",
              "      <th>bedrooms</th>\n",
              "      <th>bathrooms</th>\n",
              "      <th>sqft_living</th>\n",
              "      <th>sqft_lot</th>\n",
              "      <th>floors</th>\n",
              "      <th>waterfront</th>\n",
              "      <th>view</th>\n",
              "      <th>...</th>\n",
              "      <th>grade</th>\n",
              "      <th>sqft_above</th>\n",
              "      <th>sqft_basement</th>\n",
              "      <th>yr_built</th>\n",
              "      <th>yr_renovated</th>\n",
              "      <th>zipcode</th>\n",
              "      <th>lat</th>\n",
              "      <th>long</th>\n",
              "      <th>sqft_living15</th>\n",
              "      <th>sqft_lot15</th>\n",
              "    </tr>\n",
              "  </thead>\n",
              "  <tbody>\n",
              "    <tr>\n",
              "      <th>0</th>\n",
              "      <td>7129300520</td>\n",
              "      <td>20141013T000000</td>\n",
              "      <td>221900.0</td>\n",
              "      <td>3</td>\n",
              "      <td>1.00</td>\n",
              "      <td>1180</td>\n",
              "      <td>5650</td>\n",
              "      <td>1.0</td>\n",
              "      <td>0</td>\n",
              "      <td>0</td>\n",
              "      <td>...</td>\n",
              "      <td>7</td>\n",
              "      <td>1180</td>\n",
              "      <td>0</td>\n",
              "      <td>1955</td>\n",
              "      <td>0</td>\n",
              "      <td>98178</td>\n",
              "      <td>47.5112</td>\n",
              "      <td>-122.257</td>\n",
              "      <td>1340</td>\n",
              "      <td>5650</td>\n",
              "    </tr>\n",
              "    <tr>\n",
              "      <th>1</th>\n",
              "      <td>6414100192</td>\n",
              "      <td>20141209T000000</td>\n",
              "      <td>538000.0</td>\n",
              "      <td>3</td>\n",
              "      <td>2.25</td>\n",
              "      <td>2570</td>\n",
              "      <td>7242</td>\n",
              "      <td>2.0</td>\n",
              "      <td>0</td>\n",
              "      <td>0</td>\n",
              "      <td>...</td>\n",
              "      <td>7</td>\n",
              "      <td>2170</td>\n",
              "      <td>400</td>\n",
              "      <td>1951</td>\n",
              "      <td>1991</td>\n",
              "      <td>98125</td>\n",
              "      <td>47.7210</td>\n",
              "      <td>-122.319</td>\n",
              "      <td>1690</td>\n",
              "      <td>7639</td>\n",
              "    </tr>\n",
              "    <tr>\n",
              "      <th>2</th>\n",
              "      <td>5631500400</td>\n",
              "      <td>20150225T000000</td>\n",
              "      <td>180000.0</td>\n",
              "      <td>2</td>\n",
              "      <td>1.00</td>\n",
              "      <td>770</td>\n",
              "      <td>10000</td>\n",
              "      <td>1.0</td>\n",
              "      <td>0</td>\n",
              "      <td>0</td>\n",
              "      <td>...</td>\n",
              "      <td>6</td>\n",
              "      <td>770</td>\n",
              "      <td>0</td>\n",
              "      <td>1933</td>\n",
              "      <td>0</td>\n",
              "      <td>98028</td>\n",
              "      <td>47.7379</td>\n",
              "      <td>-122.233</td>\n",
              "      <td>2720</td>\n",
              "      <td>8062</td>\n",
              "    </tr>\n",
              "    <tr>\n",
              "      <th>3</th>\n",
              "      <td>2487200875</td>\n",
              "      <td>20141209T000000</td>\n",
              "      <td>604000.0</td>\n",
              "      <td>4</td>\n",
              "      <td>3.00</td>\n",
              "      <td>1960</td>\n",
              "      <td>5000</td>\n",
              "      <td>1.0</td>\n",
              "      <td>0</td>\n",
              "      <td>0</td>\n",
              "      <td>...</td>\n",
              "      <td>7</td>\n",
              "      <td>1050</td>\n",
              "      <td>910</td>\n",
              "      <td>1965</td>\n",
              "      <td>0</td>\n",
              "      <td>98136</td>\n",
              "      <td>47.5208</td>\n",
              "      <td>-122.393</td>\n",
              "      <td>1360</td>\n",
              "      <td>5000</td>\n",
              "    </tr>\n",
              "    <tr>\n",
              "      <th>4</th>\n",
              "      <td>1954400510</td>\n",
              "      <td>20150218T000000</td>\n",
              "      <td>510000.0</td>\n",
              "      <td>3</td>\n",
              "      <td>2.00</td>\n",
              "      <td>1680</td>\n",
              "      <td>8080</td>\n",
              "      <td>1.0</td>\n",
              "      <td>0</td>\n",
              "      <td>0</td>\n",
              "      <td>...</td>\n",
              "      <td>8</td>\n",
              "      <td>1680</td>\n",
              "      <td>0</td>\n",
              "      <td>1987</td>\n",
              "      <td>0</td>\n",
              "      <td>98074</td>\n",
              "      <td>47.6168</td>\n",
              "      <td>-122.045</td>\n",
              "      <td>1800</td>\n",
              "      <td>7503</td>\n",
              "    </tr>\n",
              "  </tbody>\n",
              "</table>\n",
              "<p>5 rows × 21 columns</p>\n",
              "</div>"
            ],
            "text/plain": [
              "           id             date     price  bedrooms  bathrooms  sqft_living  \\\n",
              "0  7129300520  20141013T000000  221900.0         3       1.00         1180   \n",
              "1  6414100192  20141209T000000  538000.0         3       2.25         2570   \n",
              "2  5631500400  20150225T000000  180000.0         2       1.00          770   \n",
              "3  2487200875  20141209T000000  604000.0         4       3.00         1960   \n",
              "4  1954400510  20150218T000000  510000.0         3       2.00         1680   \n",
              "\n",
              "   sqft_lot  floors  waterfront  view  ...  grade  sqft_above  sqft_basement  \\\n",
              "0      5650     1.0           0     0  ...      7        1180              0   \n",
              "1      7242     2.0           0     0  ...      7        2170            400   \n",
              "2     10000     1.0           0     0  ...      6         770              0   \n",
              "3      5000     1.0           0     0  ...      7        1050            910   \n",
              "4      8080     1.0           0     0  ...      8        1680              0   \n",
              "\n",
              "   yr_built  yr_renovated  zipcode      lat     long  sqft_living15  \\\n",
              "0      1955             0    98178  47.5112 -122.257           1340   \n",
              "1      1951          1991    98125  47.7210 -122.319           1690   \n",
              "2      1933             0    98028  47.7379 -122.233           2720   \n",
              "3      1965             0    98136  47.5208 -122.393           1360   \n",
              "4      1987             0    98074  47.6168 -122.045           1800   \n",
              "\n",
              "   sqft_lot15  \n",
              "0        5650  \n",
              "1        7639  \n",
              "2        8062  \n",
              "3        5000  \n",
              "4        7503  \n",
              "\n",
              "[5 rows x 21 columns]"
            ]
          },
          "execution_count": 3,
          "metadata": {},
          "output_type": "execute_result"
        }
      ],
      "source": [
        "df.head()"
      ]
    },
    {
      "cell_type": "markdown",
      "id": "d8a3d546",
      "metadata": {
        "id": "d8a3d546"
      },
      "source": [
        "## Домашнее задание 2.\n",
        "Проведите первичный анализ данных:\n",
        "- Изучите типы данных\n",
        "- Найдите количество пропущенных ячеек в данных\n",
        "- Посчитайте основные статистики по всем признакам и поизучайте их\n"
      ]
    },
    {
      "cell_type": "code",
      "execution_count": null,
      "id": "cb4bd0ac",
      "metadata": {
        "id": "cb4bd0ac",
        "outputId": "937a0188-4f8c-4aa2-ca15-6ea0e3c72c48"
      },
      "outputs": [
        {
          "name": "stdout",
          "output_type": "stream",
          "text": [
            "<class 'pandas.core.frame.DataFrame'>\n",
            "RangeIndex: 21613 entries, 0 to 21612\n",
            "Data columns (total 21 columns):\n",
            " #   Column         Non-Null Count  Dtype  \n",
            "---  ------         --------------  -----  \n",
            " 0   id             21613 non-null  int64  \n",
            " 1   date           21613 non-null  object \n",
            " 2   price          21613 non-null  float64\n",
            " 3   bedrooms       21613 non-null  int64  \n",
            " 4   bathrooms      21613 non-null  float64\n",
            " 5   sqft_living    21613 non-null  int64  \n",
            " 6   sqft_lot       21613 non-null  int64  \n",
            " 7   floors         21613 non-null  float64\n",
            " 8   waterfront     21613 non-null  int64  \n",
            " 9   view           21613 non-null  int64  \n",
            " 10  condition      21613 non-null  int64  \n",
            " 11  grade          21613 non-null  int64  \n",
            " 12  sqft_above     21613 non-null  int64  \n",
            " 13  sqft_basement  21613 non-null  int64  \n",
            " 14  yr_built       21613 non-null  int64  \n",
            " 15  yr_renovated   21613 non-null  int64  \n",
            " 16  zipcode        21613 non-null  int64  \n",
            " 17  lat            21613 non-null  float64\n",
            " 18  long           21613 non-null  float64\n",
            " 19  sqft_living15  21613 non-null  int64  \n",
            " 20  sqft_lot15     21613 non-null  int64  \n",
            "dtypes: float64(5), int64(15), object(1)\n",
            "memory usage: 3.5+ MB\n"
          ]
        }
      ],
      "source": [
        "df.info()"
      ]
    },
    {
      "cell_type": "code",
      "execution_count": null,
      "id": "0ccee5b6",
      "metadata": {
        "id": "0ccee5b6",
        "outputId": "592cd5e6-5791-4373-ca19-0e6cf67a547c"
      },
      "outputs": [
        {
          "data": {
            "text/html": [
              "<div>\n",
              "<style scoped>\n",
              "    .dataframe tbody tr th:only-of-type {\n",
              "        vertical-align: middle;\n",
              "    }\n",
              "\n",
              "    .dataframe tbody tr th {\n",
              "        vertical-align: top;\n",
              "    }\n",
              "\n",
              "    .dataframe thead th {\n",
              "        text-align: right;\n",
              "    }\n",
              "</style>\n",
              "<table border=\"1\" class=\"dataframe\">\n",
              "  <thead>\n",
              "    <tr style=\"text-align: right;\">\n",
              "      <th></th>\n",
              "      <th>id</th>\n",
              "      <th>price</th>\n",
              "      <th>bedrooms</th>\n",
              "      <th>bathrooms</th>\n",
              "      <th>sqft_living</th>\n",
              "      <th>sqft_lot</th>\n",
              "      <th>floors</th>\n",
              "      <th>waterfront</th>\n",
              "      <th>view</th>\n",
              "      <th>condition</th>\n",
              "      <th>grade</th>\n",
              "      <th>sqft_above</th>\n",
              "      <th>sqft_basement</th>\n",
              "      <th>yr_built</th>\n",
              "      <th>yr_renovated</th>\n",
              "      <th>zipcode</th>\n",
              "      <th>lat</th>\n",
              "      <th>long</th>\n",
              "      <th>sqft_living15</th>\n",
              "      <th>sqft_lot15</th>\n",
              "    </tr>\n",
              "  </thead>\n",
              "  <tbody>\n",
              "    <tr>\n",
              "      <th>count</th>\n",
              "      <td>2.161300e+04</td>\n",
              "      <td>2.161300e+04</td>\n",
              "      <td>21613.000000</td>\n",
              "      <td>21613.000000</td>\n",
              "      <td>21613.000000</td>\n",
              "      <td>2.161300e+04</td>\n",
              "      <td>21613.000000</td>\n",
              "      <td>21613.000000</td>\n",
              "      <td>21613.000000</td>\n",
              "      <td>21613.000000</td>\n",
              "      <td>21613.000000</td>\n",
              "      <td>21613.000000</td>\n",
              "      <td>21613.000000</td>\n",
              "      <td>21613.000000</td>\n",
              "      <td>21613.000000</td>\n",
              "      <td>21613.000000</td>\n",
              "      <td>21613.000000</td>\n",
              "      <td>21613.000000</td>\n",
              "      <td>21613.000000</td>\n",
              "      <td>21613.000000</td>\n",
              "    </tr>\n",
              "    <tr>\n",
              "      <th>mean</th>\n",
              "      <td>4.580302e+09</td>\n",
              "      <td>5.400881e+05</td>\n",
              "      <td>3.370842</td>\n",
              "      <td>2.114757</td>\n",
              "      <td>2079.899736</td>\n",
              "      <td>1.510697e+04</td>\n",
              "      <td>1.494309</td>\n",
              "      <td>0.007542</td>\n",
              "      <td>0.234303</td>\n",
              "      <td>3.409430</td>\n",
              "      <td>7.656873</td>\n",
              "      <td>1788.390691</td>\n",
              "      <td>291.509045</td>\n",
              "      <td>1971.005136</td>\n",
              "      <td>84.402258</td>\n",
              "      <td>98077.939805</td>\n",
              "      <td>47.560053</td>\n",
              "      <td>-122.213896</td>\n",
              "      <td>1986.552492</td>\n",
              "      <td>12768.455652</td>\n",
              "    </tr>\n",
              "    <tr>\n",
              "      <th>std</th>\n",
              "      <td>2.876566e+09</td>\n",
              "      <td>3.671272e+05</td>\n",
              "      <td>0.930062</td>\n",
              "      <td>0.770163</td>\n",
              "      <td>918.440897</td>\n",
              "      <td>4.142051e+04</td>\n",
              "      <td>0.539989</td>\n",
              "      <td>0.086517</td>\n",
              "      <td>0.766318</td>\n",
              "      <td>0.650743</td>\n",
              "      <td>1.175459</td>\n",
              "      <td>828.090978</td>\n",
              "      <td>442.575043</td>\n",
              "      <td>29.373411</td>\n",
              "      <td>401.679240</td>\n",
              "      <td>53.505026</td>\n",
              "      <td>0.138564</td>\n",
              "      <td>0.140828</td>\n",
              "      <td>685.391304</td>\n",
              "      <td>27304.179631</td>\n",
              "    </tr>\n",
              "    <tr>\n",
              "      <th>min</th>\n",
              "      <td>1.000102e+06</td>\n",
              "      <td>7.500000e+04</td>\n",
              "      <td>0.000000</td>\n",
              "      <td>0.000000</td>\n",
              "      <td>290.000000</td>\n",
              "      <td>5.200000e+02</td>\n",
              "      <td>1.000000</td>\n",
              "      <td>0.000000</td>\n",
              "      <td>0.000000</td>\n",
              "      <td>1.000000</td>\n",
              "      <td>1.000000</td>\n",
              "      <td>290.000000</td>\n",
              "      <td>0.000000</td>\n",
              "      <td>1900.000000</td>\n",
              "      <td>0.000000</td>\n",
              "      <td>98001.000000</td>\n",
              "      <td>47.155900</td>\n",
              "      <td>-122.519000</td>\n",
              "      <td>399.000000</td>\n",
              "      <td>651.000000</td>\n",
              "    </tr>\n",
              "    <tr>\n",
              "      <th>25%</th>\n",
              "      <td>2.123049e+09</td>\n",
              "      <td>3.219500e+05</td>\n",
              "      <td>3.000000</td>\n",
              "      <td>1.750000</td>\n",
              "      <td>1427.000000</td>\n",
              "      <td>5.040000e+03</td>\n",
              "      <td>1.000000</td>\n",
              "      <td>0.000000</td>\n",
              "      <td>0.000000</td>\n",
              "      <td>3.000000</td>\n",
              "      <td>7.000000</td>\n",
              "      <td>1190.000000</td>\n",
              "      <td>0.000000</td>\n",
              "      <td>1951.000000</td>\n",
              "      <td>0.000000</td>\n",
              "      <td>98033.000000</td>\n",
              "      <td>47.471000</td>\n",
              "      <td>-122.328000</td>\n",
              "      <td>1490.000000</td>\n",
              "      <td>5100.000000</td>\n",
              "    </tr>\n",
              "    <tr>\n",
              "      <th>50%</th>\n",
              "      <td>3.904930e+09</td>\n",
              "      <td>4.500000e+05</td>\n",
              "      <td>3.000000</td>\n",
              "      <td>2.250000</td>\n",
              "      <td>1910.000000</td>\n",
              "      <td>7.618000e+03</td>\n",
              "      <td>1.500000</td>\n",
              "      <td>0.000000</td>\n",
              "      <td>0.000000</td>\n",
              "      <td>3.000000</td>\n",
              "      <td>7.000000</td>\n",
              "      <td>1560.000000</td>\n",
              "      <td>0.000000</td>\n",
              "      <td>1975.000000</td>\n",
              "      <td>0.000000</td>\n",
              "      <td>98065.000000</td>\n",
              "      <td>47.571800</td>\n",
              "      <td>-122.230000</td>\n",
              "      <td>1840.000000</td>\n",
              "      <td>7620.000000</td>\n",
              "    </tr>\n",
              "    <tr>\n",
              "      <th>75%</th>\n",
              "      <td>7.308900e+09</td>\n",
              "      <td>6.450000e+05</td>\n",
              "      <td>4.000000</td>\n",
              "      <td>2.500000</td>\n",
              "      <td>2550.000000</td>\n",
              "      <td>1.068800e+04</td>\n",
              "      <td>2.000000</td>\n",
              "      <td>0.000000</td>\n",
              "      <td>0.000000</td>\n",
              "      <td>4.000000</td>\n",
              "      <td>8.000000</td>\n",
              "      <td>2210.000000</td>\n",
              "      <td>560.000000</td>\n",
              "      <td>1997.000000</td>\n",
              "      <td>0.000000</td>\n",
              "      <td>98118.000000</td>\n",
              "      <td>47.678000</td>\n",
              "      <td>-122.125000</td>\n",
              "      <td>2360.000000</td>\n",
              "      <td>10083.000000</td>\n",
              "    </tr>\n",
              "    <tr>\n",
              "      <th>max</th>\n",
              "      <td>9.900000e+09</td>\n",
              "      <td>7.700000e+06</td>\n",
              "      <td>33.000000</td>\n",
              "      <td>8.000000</td>\n",
              "      <td>13540.000000</td>\n",
              "      <td>1.651359e+06</td>\n",
              "      <td>3.500000</td>\n",
              "      <td>1.000000</td>\n",
              "      <td>4.000000</td>\n",
              "      <td>5.000000</td>\n",
              "      <td>13.000000</td>\n",
              "      <td>9410.000000</td>\n",
              "      <td>4820.000000</td>\n",
              "      <td>2015.000000</td>\n",
              "      <td>2015.000000</td>\n",
              "      <td>98199.000000</td>\n",
              "      <td>47.777600</td>\n",
              "      <td>-121.315000</td>\n",
              "      <td>6210.000000</td>\n",
              "      <td>871200.000000</td>\n",
              "    </tr>\n",
              "  </tbody>\n",
              "</table>\n",
              "</div>"
            ],
            "text/plain": [
              "                 id         price      bedrooms     bathrooms   sqft_living  \\\n",
              "count  2.161300e+04  2.161300e+04  21613.000000  21613.000000  21613.000000   \n",
              "mean   4.580302e+09  5.400881e+05      3.370842      2.114757   2079.899736   \n",
              "std    2.876566e+09  3.671272e+05      0.930062      0.770163    918.440897   \n",
              "min    1.000102e+06  7.500000e+04      0.000000      0.000000    290.000000   \n",
              "25%    2.123049e+09  3.219500e+05      3.000000      1.750000   1427.000000   \n",
              "50%    3.904930e+09  4.500000e+05      3.000000      2.250000   1910.000000   \n",
              "75%    7.308900e+09  6.450000e+05      4.000000      2.500000   2550.000000   \n",
              "max    9.900000e+09  7.700000e+06     33.000000      8.000000  13540.000000   \n",
              "\n",
              "           sqft_lot        floors    waterfront          view     condition  \\\n",
              "count  2.161300e+04  21613.000000  21613.000000  21613.000000  21613.000000   \n",
              "mean   1.510697e+04      1.494309      0.007542      0.234303      3.409430   \n",
              "std    4.142051e+04      0.539989      0.086517      0.766318      0.650743   \n",
              "min    5.200000e+02      1.000000      0.000000      0.000000      1.000000   \n",
              "25%    5.040000e+03      1.000000      0.000000      0.000000      3.000000   \n",
              "50%    7.618000e+03      1.500000      0.000000      0.000000      3.000000   \n",
              "75%    1.068800e+04      2.000000      0.000000      0.000000      4.000000   \n",
              "max    1.651359e+06      3.500000      1.000000      4.000000      5.000000   \n",
              "\n",
              "              grade    sqft_above  sqft_basement      yr_built  yr_renovated  \\\n",
              "count  21613.000000  21613.000000   21613.000000  21613.000000  21613.000000   \n",
              "mean       7.656873   1788.390691     291.509045   1971.005136     84.402258   \n",
              "std        1.175459    828.090978     442.575043     29.373411    401.679240   \n",
              "min        1.000000    290.000000       0.000000   1900.000000      0.000000   \n",
              "25%        7.000000   1190.000000       0.000000   1951.000000      0.000000   \n",
              "50%        7.000000   1560.000000       0.000000   1975.000000      0.000000   \n",
              "75%        8.000000   2210.000000     560.000000   1997.000000      0.000000   \n",
              "max       13.000000   9410.000000    4820.000000   2015.000000   2015.000000   \n",
              "\n",
              "            zipcode           lat          long  sqft_living15     sqft_lot15  \n",
              "count  21613.000000  21613.000000  21613.000000   21613.000000   21613.000000  \n",
              "mean   98077.939805     47.560053   -122.213896    1986.552492   12768.455652  \n",
              "std       53.505026      0.138564      0.140828     685.391304   27304.179631  \n",
              "min    98001.000000     47.155900   -122.519000     399.000000     651.000000  \n",
              "25%    98033.000000     47.471000   -122.328000    1490.000000    5100.000000  \n",
              "50%    98065.000000     47.571800   -122.230000    1840.000000    7620.000000  \n",
              "75%    98118.000000     47.678000   -122.125000    2360.000000   10083.000000  \n",
              "max    98199.000000     47.777600   -121.315000    6210.000000  871200.000000  "
            ]
          },
          "execution_count": 34,
          "metadata": {},
          "output_type": "execute_result"
        }
      ],
      "source": [
        "df.describe()"
      ]
    },
    {
      "cell_type": "code",
      "execution_count": null,
      "id": "5eb15292",
      "metadata": {
        "id": "5eb15292",
        "outputId": "c31caace-512f-4f0a-8dbe-49d502c3e755"
      },
      "outputs": [
        {
          "data": {
            "text/html": [
              "<div>\n",
              "<style scoped>\n",
              "    .dataframe tbody tr th:only-of-type {\n",
              "        vertical-align: middle;\n",
              "    }\n",
              "\n",
              "    .dataframe tbody tr th {\n",
              "        vertical-align: top;\n",
              "    }\n",
              "\n",
              "    .dataframe thead th {\n",
              "        text-align: right;\n",
              "    }\n",
              "</style>\n",
              "<table border=\"1\" class=\"dataframe\">\n",
              "  <thead>\n",
              "    <tr style=\"text-align: right;\">\n",
              "      <th></th>\n",
              "      <th>date</th>\n",
              "    </tr>\n",
              "  </thead>\n",
              "  <tbody>\n",
              "    <tr>\n",
              "      <th>count</th>\n",
              "      <td>21613</td>\n",
              "    </tr>\n",
              "    <tr>\n",
              "      <th>unique</th>\n",
              "      <td>372</td>\n",
              "    </tr>\n",
              "    <tr>\n",
              "      <th>top</th>\n",
              "      <td>20140623T000000</td>\n",
              "    </tr>\n",
              "    <tr>\n",
              "      <th>freq</th>\n",
              "      <td>142</td>\n",
              "    </tr>\n",
              "  </tbody>\n",
              "</table>\n",
              "</div>"
            ],
            "text/plain": [
              "                   date\n",
              "count             21613\n",
              "unique              372\n",
              "top     20140623T000000\n",
              "freq                142"
            ]
          },
          "execution_count": 6,
          "metadata": {},
          "output_type": "execute_result"
        }
      ],
      "source": [
        "df.describe(include = ['object'])"
      ]
    },
    {
      "cell_type": "markdown",
      "id": "c859ed72",
      "metadata": {
        "id": "c859ed72"
      },
      "source": [
        "## Домашнее задание 3.\n",
        "Ответьте на несколько вопросов"
      ]
    },
    {
      "cell_type": "markdown",
      "id": "26d99adf",
      "metadata": {
        "id": "26d99adf"
      },
      "source": [
        "### 3.1 В каком диапазоне изменяются стоимости недвижимости?"
      ]
    },
    {
      "cell_type": "code",
      "execution_count": null,
      "id": "3c7c79bf",
      "metadata": {
        "id": "3c7c79bf",
        "outputId": "fe11ecd3-2bf5-498d-e0f5-f86c7ee066ae"
      },
      "outputs": [
        {
          "name": "stdout",
          "output_type": "stream",
          "text": [
            "Минимальная стоимость 75000.0, максимальная 7700000.0\n"
          ]
        }
      ],
      "source": [
        "print(f\"Минимальная стоимость {df['price'].min()}, максимальная {df['price'].max()}\")"
      ]
    },
    {
      "cell_type": "markdown",
      "id": "92c030e6",
      "metadata": {
        "id": "92c030e6"
      },
      "source": [
        "### 3.2 Какую долю в среднем занимают жилая площадь от всей площади по всем домам?"
      ]
    },
    {
      "cell_type": "code",
      "execution_count": null,
      "id": "cb10a422",
      "metadata": {
        "id": "cb10a422",
        "outputId": "f1ebd504-487d-412e-d066-4a41946ae7f9"
      },
      "outputs": [
        {
          "data": {
            "text/plain": [
              "15.558283207827877"
            ]
          },
          "execution_count": 13,
          "metadata": {},
          "output_type": "execute_result"
        }
      ],
      "source": [
        "np.mean(df['sqft_living15'])*100/np.mean(df['sqft_lot15'])"
      ]
    },
    {
      "cell_type": "markdown",
      "id": "d84ca254",
      "metadata": {
        "id": "d84ca254"
      },
      "source": [
        "### 3.3 Как много домов с разными этажами в данных?"
      ]
    },
    {
      "cell_type": "code",
      "execution_count": null,
      "id": "0396e4fc",
      "metadata": {
        "id": "0396e4fc",
        "outputId": "4c57f435-79f4-496e-f974-17765874cfbf"
      },
      "outputs": [
        {
          "data": {
            "text/plain": [
              "1.0    10680\n",
              "2.0     8241\n",
              "1.5     1910\n",
              "3.0      613\n",
              "2.5      161\n",
              "3.5        8\n",
              "Name: floors, dtype: int64"
            ]
          },
          "execution_count": 9,
          "metadata": {},
          "output_type": "execute_result"
        }
      ],
      "source": [
        "df['floors'].value_counts()"
      ]
    },
    {
      "cell_type": "markdown",
      "id": "6a219c5b",
      "metadata": {
        "id": "6a219c5b"
      },
      "source": [
        "### 3.4 Насколько хорошие состояния у домов в данных?"
      ]
    },
    {
      "cell_type": "code",
      "execution_count": null,
      "id": "37b9f291",
      "metadata": {
        "id": "37b9f291",
        "outputId": "ec95b9c1-56a3-420f-a360-eadf9e82efda"
      },
      "outputs": [
        {
          "data": {
            "text/plain": [
              "3    14031\n",
              "4     5679\n",
              "5     1701\n",
              "2      172\n",
              "1       30\n",
              "Name: condition, dtype: int64"
            ]
          },
          "execution_count": 10,
          "metadata": {},
          "output_type": "execute_result"
        }
      ],
      "source": [
        "df['condition'].value_counts()"
      ]
    },
    {
      "cell_type": "markdown",
      "id": "20cd2f5f",
      "metadata": {
        "id": "20cd2f5f"
      },
      "source": [
        "### 3.5 Найдите года, когда построили первый дом, когда построили последний дом в данных?"
      ]
    },
    {
      "cell_type": "code",
      "execution_count": null,
      "id": "66667ca3",
      "metadata": {
        "id": "66667ca3",
        "outputId": "d0a1989d-0ac5-4e3e-dbf6-ef02102d2fa5"
      },
      "outputs": [
        {
          "name": "stdout",
          "output_type": "stream",
          "text": [
            "Первый дом построили в 1900, последний дом в 2015\n"
          ]
        }
      ],
      "source": [
        "print(f\"Первый дом построили в {df['yr_built'].min()}, последний дом в {df['yr_built'].max()}\")"
      ]
    },
    {
      "cell_type": "markdown",
      "id": "2869cb3a",
      "metadata": {
        "id": "2869cb3a"
      },
      "source": [
        "## Домашнее задание 4\n",
        "Ответьте на несколько вопросов:"
      ]
    },
    {
      "cell_type": "markdown",
      "id": "504da920",
      "metadata": {
        "id": "504da920"
      },
      "source": [
        "### 4.1 Сколько в среднем стоят дома, у которых 2 спальни?"
      ]
    },
    {
      "cell_type": "code",
      "execution_count": null,
      "id": "de87e9f5",
      "metadata": {
        "id": "de87e9f5",
        "outputId": "bb1d0f41-f133-457b-9412-ee649c16c2ee"
      },
      "outputs": [
        {
          "data": {
            "text/plain": [
              "401372.681884058"
            ]
          },
          "execution_count": 17,
          "metadata": {},
          "output_type": "execute_result"
        }
      ],
      "source": [
        "df[df['bedrooms'] == 2]['price'].mean()"
      ]
    },
    {
      "cell_type": "markdown",
      "id": "70c11404",
      "metadata": {
        "id": "70c11404"
      },
      "source": [
        "### 4.2 Какая в среднем общая площадь домов, у которых стоимость больше 600 000?"
      ]
    },
    {
      "cell_type": "code",
      "execution_count": null,
      "id": "40fc7e7a",
      "metadata": {
        "id": "40fc7e7a",
        "outputId": "febd5c25-6c65-4f83-a0a9-d0d1eac21567"
      },
      "outputs": [
        {
          "data": {
            "text/plain": [
              "20454.783537543197"
            ]
          },
          "execution_count": 22,
          "metadata": {},
          "output_type": "execute_result"
        }
      ],
      "source": [
        "df[df['price'] >= 600000]['sqft_lot'].mean()"
      ]
    },
    {
      "cell_type": "markdown",
      "id": "4755bc17",
      "metadata": {
        "id": "4755bc17"
      },
      "source": [
        "### 4.3 Как много домов коснулся ремонт?"
      ]
    },
    {
      "cell_type": "code",
      "execution_count": null,
      "id": "339d7fd1",
      "metadata": {
        "id": "339d7fd1",
        "outputId": "135970aa-b786-4f73-ea87-ea51b8b09e9e",
        "colab": {
          "base_uri": "https://localhost:8080/",
          "height": 172
        }
      },
      "outputs": [
        {
          "output_type": "error",
          "ename": "NameError",
          "evalue": "ignored",
          "traceback": [
            "\u001b[0;31m---------------------------------------------------------------------------\u001b[0m",
            "\u001b[0;31mNameError\u001b[0m                                 Traceback (most recent call last)",
            "\u001b[0;32m<ipython-input-1-e197394a438b>\u001b[0m in \u001b[0;36m<module>\u001b[0;34m\u001b[0m\n\u001b[0;32m----> 1\u001b[0;31m \u001b[0mdf\u001b[0m\u001b[0;34m[\u001b[0m\u001b[0;34m~\u001b[0m\u001b[0;34m(\u001b[0m\u001b[0mdf\u001b[0m\u001b[0;34m[\u001b[0m\u001b[0;34m'yr_renovated'\u001b[0m\u001b[0;34m]\u001b[0m \u001b[0;34m==\u001b[0m \u001b[0;36m0\u001b[0m\u001b[0;34m)\u001b[0m\u001b[0;34m]\u001b[0m\u001b[0;34m.\u001b[0m\u001b[0mshape\u001b[0m\u001b[0;34m\u001b[0m\u001b[0;34m\u001b[0m\u001b[0m\n\u001b[0m",
            "\u001b[0;31mNameError\u001b[0m: name 'df' is not defined"
          ]
        }
      ],
      "source": [
        "df[~(df['yr_renovated'] == 0)].shape"
      ]
    },
    {
      "cell_type": "markdown",
      "id": "ae54c967",
      "metadata": {
        "id": "ae54c967"
      },
      "source": [
        "### 4.4 Насколько в среднем стоимость домов с оценкой grade домов выше 10 отличается от стоимости домов с оценкой grade меньше 4?"
      ]
    },
    {
      "cell_type": "code",
      "execution_count": null,
      "id": "5d486681",
      "metadata": {
        "id": "5d486681",
        "outputId": "08c1017e-14ad-4972-8da7-58542cb0f80e"
      },
      "outputs": [
        {
          "data": {
            "text/plain": [
              "1488885.1175298805"
            ]
          },
          "execution_count": 32,
          "metadata": {},
          "output_type": "execute_result"
        }
      ],
      "source": [
        "df[(df['grade'] > 10)]['price'].mean() - df[(df['grade'] < 4)]['price'].mean()"
      ]
    },
    {
      "cell_type": "markdown",
      "id": "d322b7ea",
      "metadata": {
        "id": "d322b7ea"
      },
      "source": [
        "## Домашнее задание 5"
      ]
    },
    {
      "cell_type": "markdown",
      "id": "034302f2",
      "metadata": {
        "id": "034302f2"
      },
      "source": [
        "### 5.1 Выберите дом клиенту\n",
        "Клиент хочет дом с видом на набережную, как минимум с тремя ванными и с подвалом. Сколько вариантов есть у клиента?\n"
      ]
    },
    {
      "cell_type": "code",
      "execution_count": null,
      "id": "5928df88",
      "metadata": {
        "id": "5928df88",
        "outputId": "cea8adad-5c77-40fc-e860-5cb98d240d79"
      },
      "outputs": [
        {
          "data": {
            "text/plain": [
              "(36, 21)"
            ]
          },
          "execution_count": 71,
          "metadata": {},
          "output_type": "execute_result"
        }
      ],
      "source": [
        "df[~(df['waterfront'] == 0) & (df['bathrooms'] > 3) & ~(df['sqft_basement'] == 0)].shape"
      ]
    },
    {
      "cell_type": "markdown",
      "id": "8ba99093",
      "metadata": {
        "id": "8ba99093"
      },
      "source": [
        "### 5.2 Выберите дом клиенту\n",
        "Клиент хочет дом либо с очень красивым видом из окна, либо с видом на набережную, в очень хорошем состоянии и год постройки не меньше 1980 года. В какой ценовом диапазоне будут дома?\n"
      ]
    },
    {
      "cell_type": "code",
      "execution_count": null,
      "id": "07cc3e60",
      "metadata": {
        "id": "07cc3e60",
        "outputId": "dd05691b-2d4e-4808-c7e8-7140e4ebd0f6"
      },
      "outputs": [
        {
          "data": {
            "text/html": [
              "<div>\n",
              "<style scoped>\n",
              "    .dataframe tbody tr th:only-of-type {\n",
              "        vertical-align: middle;\n",
              "    }\n",
              "\n",
              "    .dataframe tbody tr th {\n",
              "        vertical-align: top;\n",
              "    }\n",
              "\n",
              "    .dataframe thead th {\n",
              "        text-align: right;\n",
              "    }\n",
              "</style>\n",
              "<table border=\"1\" class=\"dataframe\">\n",
              "  <thead>\n",
              "    <tr style=\"text-align: right;\">\n",
              "      <th></th>\n",
              "      <th>id</th>\n",
              "      <th>date</th>\n",
              "      <th>price</th>\n",
              "      <th>bedrooms</th>\n",
              "      <th>bathrooms</th>\n",
              "      <th>sqft_living</th>\n",
              "      <th>sqft_lot</th>\n",
              "      <th>floors</th>\n",
              "      <th>waterfront</th>\n",
              "      <th>view</th>\n",
              "      <th>...</th>\n",
              "      <th>grade</th>\n",
              "      <th>sqft_above</th>\n",
              "      <th>sqft_basement</th>\n",
              "      <th>yr_built</th>\n",
              "      <th>yr_renovated</th>\n",
              "      <th>zipcode</th>\n",
              "      <th>lat</th>\n",
              "      <th>long</th>\n",
              "      <th>sqft_living15</th>\n",
              "      <th>sqft_lot15</th>\n",
              "    </tr>\n",
              "  </thead>\n",
              "  <tbody>\n",
              "    <tr>\n",
              "      <th>49</th>\n",
              "      <td>822039084</td>\n",
              "      <td>20150311T000000</td>\n",
              "      <td>1350000.0</td>\n",
              "      <td>3</td>\n",
              "      <td>2.50</td>\n",
              "      <td>2753</td>\n",
              "      <td>65005</td>\n",
              "      <td>1.0</td>\n",
              "      <td>1</td>\n",
              "      <td>2</td>\n",
              "      <td>...</td>\n",
              "      <td>9</td>\n",
              "      <td>2165</td>\n",
              "      <td>588</td>\n",
              "      <td>1953</td>\n",
              "      <td>0</td>\n",
              "      <td>98070</td>\n",
              "      <td>47.4041</td>\n",
              "      <td>-122.451</td>\n",
              "      <td>2680</td>\n",
              "      <td>72513</td>\n",
              "    </tr>\n",
              "    <tr>\n",
              "      <th>230</th>\n",
              "      <td>8096000060</td>\n",
              "      <td>20150413T000000</td>\n",
              "      <td>655000.0</td>\n",
              "      <td>2</td>\n",
              "      <td>1.75</td>\n",
              "      <td>1450</td>\n",
              "      <td>15798</td>\n",
              "      <td>2.0</td>\n",
              "      <td>1</td>\n",
              "      <td>4</td>\n",
              "      <td>...</td>\n",
              "      <td>7</td>\n",
              "      <td>1230</td>\n",
              "      <td>220</td>\n",
              "      <td>1915</td>\n",
              "      <td>1978</td>\n",
              "      <td>98166</td>\n",
              "      <td>47.4497</td>\n",
              "      <td>-122.375</td>\n",
              "      <td>2030</td>\n",
              "      <td>13193</td>\n",
              "    </tr>\n",
              "    <tr>\n",
              "      <th>246</th>\n",
              "      <td>2025069065</td>\n",
              "      <td>20140929T000000</td>\n",
              "      <td>2400000.0</td>\n",
              "      <td>4</td>\n",
              "      <td>2.50</td>\n",
              "      <td>3650</td>\n",
              "      <td>8354</td>\n",
              "      <td>1.0</td>\n",
              "      <td>1</td>\n",
              "      <td>4</td>\n",
              "      <td>...</td>\n",
              "      <td>9</td>\n",
              "      <td>1830</td>\n",
              "      <td>1820</td>\n",
              "      <td>2000</td>\n",
              "      <td>0</td>\n",
              "      <td>98074</td>\n",
              "      <td>47.6338</td>\n",
              "      <td>-122.072</td>\n",
              "      <td>3120</td>\n",
              "      <td>18841</td>\n",
              "    </tr>\n",
              "    <tr>\n",
              "      <th>264</th>\n",
              "      <td>2123039032</td>\n",
              "      <td>20141027T000000</td>\n",
              "      <td>369900.0</td>\n",
              "      <td>1</td>\n",
              "      <td>0.75</td>\n",
              "      <td>760</td>\n",
              "      <td>10079</td>\n",
              "      <td>1.0</td>\n",
              "      <td>1</td>\n",
              "      <td>4</td>\n",
              "      <td>...</td>\n",
              "      <td>5</td>\n",
              "      <td>760</td>\n",
              "      <td>0</td>\n",
              "      <td>1936</td>\n",
              "      <td>0</td>\n",
              "      <td>98070</td>\n",
              "      <td>47.4683</td>\n",
              "      <td>-122.438</td>\n",
              "      <td>1230</td>\n",
              "      <td>14267</td>\n",
              "    </tr>\n",
              "    <tr>\n",
              "      <th>300</th>\n",
              "      <td>3225069065</td>\n",
              "      <td>20140624T000000</td>\n",
              "      <td>3075000.0</td>\n",
              "      <td>4</td>\n",
              "      <td>5.00</td>\n",
              "      <td>4550</td>\n",
              "      <td>18641</td>\n",
              "      <td>1.0</td>\n",
              "      <td>1</td>\n",
              "      <td>4</td>\n",
              "      <td>...</td>\n",
              "      <td>10</td>\n",
              "      <td>2600</td>\n",
              "      <td>1950</td>\n",
              "      <td>2002</td>\n",
              "      <td>0</td>\n",
              "      <td>98074</td>\n",
              "      <td>47.6053</td>\n",
              "      <td>-122.077</td>\n",
              "      <td>4550</td>\n",
              "      <td>19508</td>\n",
              "    </tr>\n",
              "    <tr>\n",
              "      <th>...</th>\n",
              "      <td>...</td>\n",
              "      <td>...</td>\n",
              "      <td>...</td>\n",
              "      <td>...</td>\n",
              "      <td>...</td>\n",
              "      <td>...</td>\n",
              "      <td>...</td>\n",
              "      <td>...</td>\n",
              "      <td>...</td>\n",
              "      <td>...</td>\n",
              "      <td>...</td>\n",
              "      <td>...</td>\n",
              "      <td>...</td>\n",
              "      <td>...</td>\n",
              "      <td>...</td>\n",
              "      <td>...</td>\n",
              "      <td>...</td>\n",
              "      <td>...</td>\n",
              "      <td>...</td>\n",
              "      <td>...</td>\n",
              "      <td>...</td>\n",
              "    </tr>\n",
              "    <tr>\n",
              "      <th>19984</th>\n",
              "      <td>2025069140</td>\n",
              "      <td>20150317T000000</td>\n",
              "      <td>1898000.0</td>\n",
              "      <td>3</td>\n",
              "      <td>2.50</td>\n",
              "      <td>2830</td>\n",
              "      <td>4334</td>\n",
              "      <td>3.0</td>\n",
              "      <td>1</td>\n",
              "      <td>4</td>\n",
              "      <td>...</td>\n",
              "      <td>10</td>\n",
              "      <td>2830</td>\n",
              "      <td>0</td>\n",
              "      <td>2006</td>\n",
              "      <td>0</td>\n",
              "      <td>98074</td>\n",
              "      <td>47.6318</td>\n",
              "      <td>-122.071</td>\n",
              "      <td>2830</td>\n",
              "      <td>38211</td>\n",
              "    </tr>\n",
              "    <tr>\n",
              "      <th>20325</th>\n",
              "      <td>518500480</td>\n",
              "      <td>20140811T000000</td>\n",
              "      <td>3000000.0</td>\n",
              "      <td>3</td>\n",
              "      <td>3.50</td>\n",
              "      <td>4410</td>\n",
              "      <td>10756</td>\n",
              "      <td>2.0</td>\n",
              "      <td>1</td>\n",
              "      <td>4</td>\n",
              "      <td>...</td>\n",
              "      <td>11</td>\n",
              "      <td>3430</td>\n",
              "      <td>980</td>\n",
              "      <td>2014</td>\n",
              "      <td>0</td>\n",
              "      <td>98056</td>\n",
              "      <td>47.5283</td>\n",
              "      <td>-122.205</td>\n",
              "      <td>3550</td>\n",
              "      <td>5634</td>\n",
              "    </tr>\n",
              "    <tr>\n",
              "      <th>20767</th>\n",
              "      <td>8043700105</td>\n",
              "      <td>20150417T000000</td>\n",
              "      <td>2300000.0</td>\n",
              "      <td>4</td>\n",
              "      <td>4.00</td>\n",
              "      <td>4360</td>\n",
              "      <td>8175</td>\n",
              "      <td>2.5</td>\n",
              "      <td>1</td>\n",
              "      <td>4</td>\n",
              "      <td>...</td>\n",
              "      <td>10</td>\n",
              "      <td>3940</td>\n",
              "      <td>420</td>\n",
              "      <td>2007</td>\n",
              "      <td>0</td>\n",
              "      <td>98008</td>\n",
              "      <td>47.5724</td>\n",
              "      <td>-122.104</td>\n",
              "      <td>2670</td>\n",
              "      <td>8525</td>\n",
              "    </tr>\n",
              "    <tr>\n",
              "      <th>21201</th>\n",
              "      <td>518500460</td>\n",
              "      <td>20141008T000000</td>\n",
              "      <td>2230000.0</td>\n",
              "      <td>3</td>\n",
              "      <td>3.50</td>\n",
              "      <td>3760</td>\n",
              "      <td>5634</td>\n",
              "      <td>2.0</td>\n",
              "      <td>1</td>\n",
              "      <td>4</td>\n",
              "      <td>...</td>\n",
              "      <td>11</td>\n",
              "      <td>2830</td>\n",
              "      <td>930</td>\n",
              "      <td>2014</td>\n",
              "      <td>0</td>\n",
              "      <td>98056</td>\n",
              "      <td>47.5285</td>\n",
              "      <td>-122.205</td>\n",
              "      <td>3560</td>\n",
              "      <td>5762</td>\n",
              "    </tr>\n",
              "    <tr>\n",
              "      <th>21576</th>\n",
              "      <td>9253900271</td>\n",
              "      <td>20150107T000000</td>\n",
              "      <td>3567000.0</td>\n",
              "      <td>5</td>\n",
              "      <td>4.50</td>\n",
              "      <td>4850</td>\n",
              "      <td>10584</td>\n",
              "      <td>2.0</td>\n",
              "      <td>1</td>\n",
              "      <td>4</td>\n",
              "      <td>...</td>\n",
              "      <td>10</td>\n",
              "      <td>3540</td>\n",
              "      <td>1310</td>\n",
              "      <td>2007</td>\n",
              "      <td>0</td>\n",
              "      <td>98008</td>\n",
              "      <td>47.5943</td>\n",
              "      <td>-122.110</td>\n",
              "      <td>3470</td>\n",
              "      <td>18270</td>\n",
              "    </tr>\n",
              "  </tbody>\n",
              "</table>\n",
              "<p>166 rows × 21 columns</p>\n",
              "</div>"
            ],
            "text/plain": [
              "               id             date      price  bedrooms  bathrooms  \\\n",
              "49      822039084  20150311T000000  1350000.0         3       2.50   \n",
              "230    8096000060  20150413T000000   655000.0         2       1.75   \n",
              "246    2025069065  20140929T000000  2400000.0         4       2.50   \n",
              "264    2123039032  20141027T000000   369900.0         1       0.75   \n",
              "300    3225069065  20140624T000000  3075000.0         4       5.00   \n",
              "...           ...              ...        ...       ...        ...   \n",
              "19984  2025069140  20150317T000000  1898000.0         3       2.50   \n",
              "20325   518500480  20140811T000000  3000000.0         3       3.50   \n",
              "20767  8043700105  20150417T000000  2300000.0         4       4.00   \n",
              "21201   518500460  20141008T000000  2230000.0         3       3.50   \n",
              "21576  9253900271  20150107T000000  3567000.0         5       4.50   \n",
              "\n",
              "       sqft_living  sqft_lot  floors  waterfront  view  ...  grade  \\\n",
              "49            2753     65005     1.0           1     2  ...      9   \n",
              "230           1450     15798     2.0           1     4  ...      7   \n",
              "246           3650      8354     1.0           1     4  ...      9   \n",
              "264            760     10079     1.0           1     4  ...      5   \n",
              "300           4550     18641     1.0           1     4  ...     10   \n",
              "...            ...       ...     ...         ...   ...  ...    ...   \n",
              "19984         2830      4334     3.0           1     4  ...     10   \n",
              "20325         4410     10756     2.0           1     4  ...     11   \n",
              "20767         4360      8175     2.5           1     4  ...     10   \n",
              "21201         3760      5634     2.0           1     4  ...     11   \n",
              "21576         4850     10584     2.0           1     4  ...     10   \n",
              "\n",
              "       sqft_above  sqft_basement  yr_built  yr_renovated  zipcode      lat  \\\n",
              "49           2165            588      1953             0    98070  47.4041   \n",
              "230          1230            220      1915          1978    98166  47.4497   \n",
              "246          1830           1820      2000             0    98074  47.6338   \n",
              "264           760              0      1936             0    98070  47.4683   \n",
              "300          2600           1950      2002             0    98074  47.6053   \n",
              "...           ...            ...       ...           ...      ...      ...   \n",
              "19984        2830              0      2006             0    98074  47.6318   \n",
              "20325        3430            980      2014             0    98056  47.5283   \n",
              "20767        3940            420      2007             0    98008  47.5724   \n",
              "21201        2830            930      2014             0    98056  47.5285   \n",
              "21576        3540           1310      2007             0    98008  47.5943   \n",
              "\n",
              "          long  sqft_living15  sqft_lot15  \n",
              "49    -122.451           2680       72513  \n",
              "230   -122.375           2030       13193  \n",
              "246   -122.072           3120       18841  \n",
              "264   -122.438           1230       14267  \n",
              "300   -122.077           4550       19508  \n",
              "...        ...            ...         ...  \n",
              "19984 -122.071           2830       38211  \n",
              "20325 -122.205           3550        5634  \n",
              "20767 -122.104           2670        8525  \n",
              "21201 -122.205           3560        5762  \n",
              "21576 -122.110           3470       18270  \n",
              "\n",
              "[166 rows x 21 columns]"
            ]
          },
          "execution_count": 63,
          "metadata": {},
          "output_type": "execute_result"
        }
      ],
      "source": [
        "df[~(df['waterfront'] == 0) | (df['view'] > 3) & (df['condition'] > 4) & (df['yr_built'] >= 1980)]"
      ]
    },
    {
      "cell_type": "code",
      "execution_count": null,
      "id": "b83599c9",
      "metadata": {
        "id": "b83599c9",
        "outputId": "745d58b7-3a2d-4012-c0bd-2c904f29b644"
      },
      "outputs": [
        {
          "name": "stdout",
          "output_type": "stream",
          "text": [
            "Ценовой диапазон от 285000.0 до 7062500.0\n"
          ]
        }
      ],
      "source": [
        "print(f\"Ценовой диапазон от {df[~(df['waterfront'] == 0) | (df['view'] > 3) & (df['condition'] > 4) & (df['yr_built'] >= 1980)]['price'].min()} до {df[~(df['waterfront'] == 0) | (df['view'] > 3) & (df['condition'] > 4) & (df['yr_built'] >= 1980)]['price'].max()}\")"
      ]
    },
    {
      "cell_type": "markdown",
      "id": "ffe5d45e",
      "metadata": {
        "id": "ffe5d45e"
      },
      "source": [
        "### 5.3 Выберите дом клиенту\n",
        "Клиент хочет дом без подвала, с двумя этажами, стоимостью до 150000. Какая оценка по состоянию у таких домов в среднем?\n"
      ]
    },
    {
      "cell_type": "code",
      "execution_count": null,
      "id": "e1744fc8",
      "metadata": {
        "id": "e1744fc8",
        "outputId": "2dfb1520-f857-4149-ae24-80463600da48"
      },
      "outputs": [
        {
          "data": {
            "text/plain": [
              "3.0"
            ]
          },
          "execution_count": 69,
          "metadata": {},
          "output_type": "execute_result"
        }
      ],
      "source": [
        "df[(df['sqft_basement'] == 0) & (df['floors'] == 2) & (df['price'] <= 150000)]['condition'].mean()"
      ]
    }
  ],
  "metadata": {
    "kernelspec": {
      "display_name": "Python 3 (ipykernel)",
      "language": "python",
      "name": "python3"
    },
    "language_info": {
      "codemirror_mode": {
        "name": "ipython",
        "version": 3
      },
      "file_extension": ".py",
      "mimetype": "text/x-python",
      "name": "python",
      "nbconvert_exporter": "python",
      "pygments_lexer": "ipython3",
      "version": "3.9.13"
    },
    "colab": {
      "provenance": []
    }
  },
  "nbformat": 4,
  "nbformat_minor": 5
}