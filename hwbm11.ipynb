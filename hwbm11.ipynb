{
  "nbformat": 4,
  "nbformat_minor": 0,
  "metadata": {
    "colab": {
      "provenance": [],
      "authorship_tag": "ABX9TyO6tEIilwlNpJIIyRMMMZKz"
    },
    "kernelspec": {
      "name": "python3",
      "display_name": "Python 3"
    },
    "language_info": {
      "name": "python"
    }
  },
  "cells": [
    {
      "cell_type": "code",
      "execution_count": null,
      "metadata": {
        "id": "Lk5klaA0e86u"
      },
      "outputs": [],
      "source": [
        "import numpy as np\n",
        "import pandas as pd"
      ]
    },
    {
      "cell_type": "code",
      "source": [
        "RS = (R * I * C)/E"
      ],
      "metadata": {
        "id": "jGWwS0JNe9-O"
      },
      "execution_count": null,
      "outputs": []
    },
    {
      "cell_type": "code",
      "source": [
        "NVP = (-IC / (i + 0.1)) + (CF / (i + 0.1)**2) + (CF2/ (i + 0.1)**3) + (CF3 / (i + 0.1)**4) + (CF4/ (i + 0.1)**5);\n",
        "NVP"
      ],
      "metadata": {
        "colab": {
          "base_uri": "https://localhost:8080/"
        },
        "id": "7aix896FfHkq",
        "outputId": "48b85e4b-5257-4681-f7a3-6dc0dc30b1e3"
      },
      "execution_count": null,
      "outputs": [
        {
          "output_type": "execute_result",
          "data": {
            "text/plain": [
              "5018.596593625603"
            ]
          },
          "metadata": {},
          "execution_count": 47
        }
      ]
    },
    {
      "cell_type": "code",
      "source": [
        "IC = 75000\n",
        "CF = 20000\n",
        "CF2 = 27000\n",
        "CF3 = 26000\n",
        "CF4 = 30000\n",
        "i = 1"
      ],
      "metadata": {
        "id": "NAFID_DAkraj"
      },
      "execution_count": null,
      "outputs": []
    },
    {
      "cell_type": "code",
      "source": [
        "NVP = (-IC / (i + 0.1)) + (CF / (i + 0.1)**2) + (CF2/ (i + 0.1)**3) + (CF3 / (i + 0.1)**4) + (CF4/ (i + 0.1)**5);\n",
        "NVP"
      ],
      "metadata": {
        "colab": {
          "base_uri": "https://localhost:8080/"
        },
        "id": "PQXLVmielvzE",
        "outputId": "2478b1fb-c899-43a9-d528-c4c0c0dee740"
      },
      "execution_count": 49,
      "outputs": [
        {
          "output_type": "execute_result",
          "data": {
            "text/plain": [
              "25461.499773363703"
            ]
          },
          "metadata": {},
          "execution_count": 49
        }
      ]
    },
    {
      "cell_type": "code",
      "source": [
        "IC = 90000\n",
        "CF = 35000\n",
        "CF2 = 29000\n",
        "CF3 = 41000\n",
        "CF4 = 46000\n",
        "i = 1"
      ],
      "metadata": {
        "id": "4CAMb3RggbEn"
      },
      "execution_count": 48,
      "outputs": []
    },
    {
      "cell_type": "code",
      "source": [
        "NVP = (-IC / (i + 0.1)) + (CF / (i + 0.1)**2) + (CF2/ (i + 0.1)**3) + (CF3 / (i + 0.1)**4) + (CF4/ (i + 0.1)**5);\n",
        "NVP"
      ],
      "metadata": {
        "colab": {
          "base_uri": "https://localhost:8080/"
        },
        "id": "PfnZntmvm1tU",
        "outputId": "0ddaaa11-743f-4bed-8b73-88257d361641"
      },
      "execution_count": 51,
      "outputs": [
        {
          "output_type": "execute_result",
          "data": {
            "text/plain": [
              "19613.352292131054"
            ]
          },
          "metadata": {},
          "execution_count": 51
        }
      ]
    },
    {
      "cell_type": "code",
      "source": [
        "IC = 55000\n",
        "CF = 25000\n",
        "CF2 = 24800\n",
        "CF3 = 25300\n",
        "CF4 = 21000\n",
        "i = 1"
      ],
      "metadata": {
        "id": "cl3VTVL0m3Fn"
      },
      "execution_count": 50,
      "outputs": []
    },
    {
      "cell_type": "code",
      "source": [
        "NVP = (-IC / (i + 0.1)) + (CF / (i + 0.1)**2) + (CF2/ (i + 0.1)**3) + (CF3 / (i + 0.1)**4) + (CF4/ (i + 0.1)**5);\n",
        "NVP"
      ],
      "metadata": {
        "colab": {
          "base_uri": "https://localhost:8080/"
        },
        "id": "ZkcJvRlzn0Zq",
        "outputId": "eb65b030-0f79-46fa-bfa0-f8ecb869c6be"
      },
      "execution_count": 53,
      "outputs": [
        {
          "output_type": "execute_result",
          "data": {
            "text/plain": [
              "607.5715146133662"
            ]
          },
          "metadata": {},
          "execution_count": 53
        }
      ]
    },
    {
      "cell_type": "code",
      "source": [
        "IC = 100000\n",
        "CF = 34500\n",
        "CF2 = 31700\n",
        "CF3 = 30920\n",
        "CF4 = 29100\n",
        "i = 1"
      ],
      "metadata": {
        "id": "Y-0_fxa7n1v8"
      },
      "execution_count": 52,
      "outputs": []
    },
    {
      "cell_type": "code",
      "source": [
        "NVP = (-IC / (i + 0.1)) + (CF / (i + 0.1)**2) + (CF2/ (i + 0.1)**3) + (CF3 / (i + 0.1)**4) + (CF4/ (i + 0.1)**5);\n",
        "NVP"
      ],
      "metadata": {
        "colab": {
          "base_uri": "https://localhost:8080/"
        },
        "id": "F9BQVYcGofJ2",
        "outputId": "51d4bec9-71c4-48a9-f09e-c3598cef58e8"
      },
      "execution_count": 55,
      "outputs": [
        {
          "output_type": "execute_result",
          "data": {
            "text/plain": [
              "67584.18140837371"
            ]
          },
          "metadata": {},
          "execution_count": 55
        }
      ]
    },
    {
      "cell_type": "code",
      "source": [
        "IC = 100000\n",
        "CF = 55000\n",
        "CF2 = 55000\n",
        "CF3 = 55000\n",
        "CF4 = 55000\n",
        "i = 1"
      ],
      "metadata": {
        "id": "QUswCRXgogF7"
      },
      "execution_count": 54,
      "outputs": []
    }
  ]
}